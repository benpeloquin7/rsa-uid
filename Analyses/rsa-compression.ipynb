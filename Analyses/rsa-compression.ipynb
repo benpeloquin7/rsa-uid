{
 "cells": [
  {
   "cell_type": "markdown",
   "metadata": {},
   "source": [
    "# RSA as (optimal?) scene compression?\n",
    "\n",
    "RSA models have been succesful at predicting human pragmatic judgments. That is, given a `scene` including \n",
    "```\n",
    "obj1:<blue square>\n",
    "\n",
    "obj2:<blue circle>\n",
    "\n",
    "obj3:<green square>\n",
    "\n",
    "```\n",
    "listeners can succesfully identify `obj1` simply by `blue` (reasoning that it would have been more informative to refer to `obj3` as `green`.\n",
    "\n",
    "That's great, but RSA actually tells us more. RSA says that we can also unambiguously refer to `obj1` as `square` and `obj2` as `circle`!\n",
    "\n",
    "Imagine that instead of using words we mapped the adjectives to binar codes:\n",
    "```\n",
    "blue -> 00\n",
    "\n",
    "green -> 01\n",
    "\n",
    "square -> 10\n",
    "\n",
    "circle -> 11\n",
    "```\n",
    "A **literal** description of the scene might look like:\n",
    "\n",
    "```\n",
    "\"blue square, blue circle, green square\" -> 001000110110\n",
    "```\n",
    "\n",
    "which requires 12 bits.\n",
    "\n",
    "An RSA L2 speaker tells us we could refer to the same objects using:\n",
    "\n",
    "```\n",
    "blue, circle, green\" -> 001101\n",
    "```\n",
    "\n",
    "which requires only 6 bits, reducing the total scene description size by half.\n",
    "\n",
    "### This notebook explores the idea that \n",
    "0. RSA pragmatic listeners characterize optimal compression schemes of scenes\n",
    "0. That the difference between the \"optimal\" copression scheme and the literal description represent the (latent) pragmatic content available in a scene.\n",
    "\n",
    "### Todo\n",
    "* what about when there is \"partial\" pragmatic information (e.g. `<blue square, green square, blue square>`). E.g. we can compress `<green square>` to `green`.\n",
    "\n",
    "### Note\n",
    "* matrix computations can disrupt orders below.\n"
   ]
  },
  {
   "cell_type": "code",
   "execution_count": 1,
   "metadata": {
    "collapsed": true
   },
   "outputs": [],
   "source": [
    "from collections import defaultdict\n",
    "import numpy as np"
   ]
  },
  {
   "cell_type": "markdown",
   "metadata": {},
   "source": [
    "## Helpers"
   ]
  },
  {
   "cell_type": "code",
   "execution_count": 2,
   "metadata": {},
   "outputs": [],
   "source": [
    "def norm(arr):\n",
    "    return arr / np.sum(arr) if np.sum(arr) != 0 else arr\n",
    "\n",
    "def L(m):\n",
    "    return np.apply_along_axis(norm, 1, m)\n",
    "\n",
    "def S(m):\n",
    "    return np.apply_along_axis(norm, 0, m)\n",
    "\n",
    "def rsa(m, depth):\n",
    "    for i in range(depth, 0, -1):\n",
    "        if i == 0:\n",
    "            return m\n",
    "        if i % 2 == 0:\n",
    "            m = S(m)\n",
    "        else:\n",
    "            m = L(m)\n",
    "    return m\n",
    "\n",
    "def equals_max(arr):\n",
    "    return [x == np.max(arr) and x != 0 for x in arr]\n",
    "\n",
    "def round_matrix(m):\n",
    "    return np.apply_along_axis(equals_max, 1, m).astype(int)\n",
    "\n",
    "def can_be_compressed(m):\n",
    "    return all([x == 1 for x in np.apply_along_axis(np.sum, 1, m)])\n",
    "\n",
    "def compress_matrix(m):\n",
    "    return np.unique(m, axis=0)"
   ]
  },
  {
   "cell_type": "markdown",
   "metadata": {},
   "source": [
    "# Simulation 1"
   ]
  },
  {
   "cell_type": "code",
   "execution_count": 3,
   "metadata": {
    "collapsed": true
   },
   "outputs": [],
   "source": [
    "class Object:\n",
    "    def __init__(self, color, shape, language):\n",
    "        self.color = color\n",
    "        self.shape = shape\n",
    "        self.color_bin = language[self.color]\n",
    "        self.shape_bin = language[self.shape]\n",
    "    \n",
    "    def get_text_descr(self):\n",
    "        return self.color + ' ' + self.shape\n",
    "    \n",
    "    def get_bin_color(self):\n",
    "        return self.color_bin\n",
    "    \n",
    "    def get_bin_shape(self):\n",
    "        return self.shape_bin\n",
    "    \n",
    "    def get_bin_descr(self):\n",
    "        return self.get_bin_color() + self.get_bin_shape()\n",
    "\n",
    "class Scene:\n",
    "    def __init__(self, object1, object2, object3):\n",
    "        self.object1 = object1\n",
    "        self.object2 = object2\n",
    "        self.object3 = object3\n",
    "        self.scene = [self.object1, self.object2, self.object3]\n",
    "        self.literal_matrix = self.build_literal_matrix(*self.scene)        \n",
    "    \n",
    "    def get_text_descr(self):\n",
    "        return [self.object1.get_text_descr(), self.object2.get_text_descr(), self.object3.get_text_descr()]\n",
    "    \n",
    "    def get_bin_descr(self):\n",
    "        return self.object1.get_bin_descr() + self.object2.get_bin_descr() + self.object3.get_bin_descr()\n",
    "    \n",
    "    def get_scene(self):\n",
    "        return self.scene\n",
    "    \n",
    "    def build_literal_matrix(self, obj1, obj2, obj3):\n",
    "        return np.array([\n",
    "            np.array(list(map(is_blue, self.get_scene()))),\n",
    "            np.array(list(map(is_red, self.get_scene()))),\n",
    "            np.array(list(map(is_square, self.get_scene()))),\n",
    "            np.array(list(map(is_circle, self.get_scene())))])\n",
    "    \n",
    "    def get_literal_matrix(self):\n",
    "        return self.literal_matrix"
   ]
  },
  {
   "cell_type": "markdown",
   "metadata": {},
   "source": [
    "## World 1 - colors/shapes"
   ]
  },
  {
   "cell_type": "code",
   "execution_count": 4,
   "metadata": {
    "collapsed": true
   },
   "outputs": [],
   "source": [
    "# Elements\n",
    "words2bin = {\n",
    "    'blue' : '00',\n",
    "    'green' : '10',\n",
    "    'square' : '01',\n",
    "    'circle' : '11'\n",
    "}\n",
    "\n",
    "bin2words = {\n",
    "    '00' : 'blue',\n",
    "    '10' : 'green',\n",
    "    '01' : 'square',\n",
    "    '11' : 'circle'\n",
    "}"
   ]
  },
  {
   "cell_type": "code",
   "execution_count": 5,
   "metadata": {
    "collapsed": true
   },
   "outputs": [],
   "source": [
    "def is_dim(dim):\n",
    "    def color_lookup(obj):\n",
    "        if dim == 'square' or dim == 'circle':\n",
    "            return 1 if obj.get_bin_shape() == words2bin[dim] else 0\n",
    "        else:\n",
    "            return 1 if obj.get_bin_color() == words2bin[dim] else 0\n",
    "    return color_lookup\n",
    "\n",
    "is_blue = is_dim('blue')\n",
    "is_red = is_dim('green')\n",
    "is_square = is_dim('square')\n",
    "is_circle = is_dim('circle')"
   ]
  },
  {
   "cell_type": "code",
   "execution_count": 6,
   "metadata": {
    "collapsed": true
   },
   "outputs": [],
   "source": [
    "def matrix2code(m, rows):\n",
    "    \"\"\"Convert a matrix into (possible) scene code(s).\n",
    "    \n",
    "    Parameters\n",
    "    ----------\n",
    "    rows: string\n",
    "        bin descriptions.\n",
    "    \n",
    "    Returns\n",
    "    -------\n",
    "    String\n",
    "        New scene description.\n",
    "        \n",
    "    \"\"\"\n",
    "    d = defaultdict(list)\n",
    "    for i, r in enumerate(rows):\n",
    "        for j, item in enumerate(m[i]):\n",
    "            if item == 1 and not j in d:\n",
    "                d[j] = r\n",
    "    return list(d.values())\n",
    "\n",
    "def code2descr(arr, bin_lang):\n",
    "    return [bin_lang[binar] for binar in arr]"
   ]
  },
  {
   "cell_type": "markdown",
   "metadata": {},
   "source": [
    "### Example 1 - Frank & Goodman (2012) implicature\n",
    "\n",
    "[`blue square`] [`blue circle`] [`green square`]"
   ]
  },
  {
   "cell_type": "code",
   "execution_count": 7,
   "metadata": {},
   "outputs": [],
   "source": [
    "# Objects\n",
    "obj1 = Object('blue', 'circle', words2bin)\n",
    "obj2 = Object('blue', 'square', words2bin)\n",
    "obj3 = Object('green', 'square', words2bin)\n",
    "scene = Scene(obj1, obj2, obj3)"
   ]
  },
  {
   "cell_type": "code",
   "execution_count": 8,
   "metadata": {},
   "outputs": [
    {
     "name": "stdout",
     "output_type": "stream",
     "text": [
      "Literal scene description:\t['blue circle', 'blue square', 'green square']\n"
     ]
    }
   ],
   "source": [
    "print(\"Literal scene description:\\t{}\".format(scene.get_text_descr()))"
   ]
  },
  {
   "cell_type": "markdown",
   "metadata": {},
   "source": [
    "Run RSA so we get L1 listener matrix"
   ]
  },
  {
   "cell_type": "code",
   "execution_count": 10,
   "metadata": {},
   "outputs": [
    {
     "name": "stdout",
     "output_type": "stream",
     "text": [
      "L1 matrix:\n",
      "[[ 0.4  0.6  0. ]\n",
      " [ 0.   0.   1. ]\n",
      " [ 0.   0.6  0.4]\n",
      " [ 1.   0.   0. ]]\n",
      "\n",
      "L1 decision matrix:\n",
      "[[0 1 0]\n",
      " [0 0 1]\n",
      " [0 1 0]\n",
      " [1 0 0]]\n"
     ]
    }
   ],
   "source": [
    "m = rsa(scene.get_literal_matrix(), 3) # 1 = L0, 2 = S1, 2 = L1\n",
    "print(\"L1 matrix:\\n{}\".format(m))\n",
    "m_decision = round_matrix(m)\n",
    "print()\n",
    "print(\"L1 decision matrix:\\n{}\".format(m_decision))"
   ]
  },
  {
   "cell_type": "code",
   "execution_count": 11,
   "metadata": {},
   "outputs": [
    {
     "name": "stdout",
     "output_type": "stream",
     "text": [
      "Literal scene text descr:\t['blue circle', 'blue square', 'green square']\n",
      "compressed scene descr:\t\tblue green circle\n",
      "Literal scene binary descr:\t001100011001\n",
      "Compressed scene code:\t\t001011\n",
      "compression factor:\t\t0.5\n"
     ]
    }
   ],
   "source": [
    "compressed_code = ''.join(matrix2code(m_decision, bin2words.keys()))\n",
    "print(\"Literal scene text descr:\\t{}\".format(scene.get_text_descr()))\n",
    "print(\"compressed scene descr:\\t\\t{}\".format(' '.join(code2descr(matrix2code(m_decision, bin2words.keys()), bin2words))))\n",
    "print(\"Literal scene binary descr:\\t{}\".format(scene.get_bin_descr()))\n",
    "print(\"Compressed scene code:\\t\\t{}\".format(compressed_code))\n",
    "print(\"compression factor:\\t\\t{}\".format(len(compressed_code)/len(scene.get_bin_descr())))"
   ]
  },
  {
   "cell_type": "markdown",
   "metadata": {},
   "source": [
    "### Example 2 - Frank & Goodman (2012) implicature\n",
    "\n",
    "[`green square`] [`green circle`] [`blue circle`]"
   ]
  },
  {
   "cell_type": "code",
   "execution_count": 12,
   "metadata": {},
   "outputs": [],
   "source": [
    "# Objects\n",
    "obj1 = Object('green', 'square', words2bin)\n",
    "obj2 = Object('green', 'circle', words2bin)\n",
    "obj3 = Object('blue', 'square', words2bin)\n",
    "scene1 = Scene(obj1, obj2, obj3)"
   ]
  },
  {
   "cell_type": "code",
   "execution_count": 13,
   "metadata": {},
   "outputs": [
    {
     "name": "stdout",
     "output_type": "stream",
     "text": [
      "L1 matrix:\n",
      "[[ 0.4  0.6  0. ]\n",
      " [ 0.   0.   1. ]\n",
      " [ 0.   0.6  0.4]\n",
      " [ 1.   0.   0. ]]\n",
      "\n",
      "L1 decision matrix:\n",
      "[[0 1 0]\n",
      " [0 0 1]\n",
      " [0 1 0]\n",
      " [1 0 0]]\n"
     ]
    }
   ],
   "source": [
    "m = rsa(scene.get_literal_matrix(), 3) # 1 = L0, 2 = S1, 2 = L1\n",
    "print(\"L1 matrix:\\n{}\".format(m))\n",
    "m_decision = round_matrix(m)\n",
    "print()\n",
    "print(\"L1 decision matrix:\\n{}\".format(m_decision))"
   ]
  },
  {
   "cell_type": "code",
   "execution_count": 14,
   "metadata": {},
   "outputs": [
    {
     "name": "stdout",
     "output_type": "stream",
     "text": [
      "Literal scene text descr:\t['blue circle', 'blue square', 'green square']\n",
      "compressed scene descr:\t\tblue green circle\n",
      "Literal scene binary descr:\t001100011001\n",
      "Compressed scene code:\t\t001011\n",
      "compression factor:\t\t0.5\n"
     ]
    }
   ],
   "source": [
    "compressed_code = ''.join(matrix2code(m_decision, bin2words.keys()))\n",
    "print(\"Literal scene text descr:\\t{}\".format(scene.get_text_descr()))\n",
    "print(\"compressed scene descr:\\t\\t{}\".format(' '.join(code2descr(matrix2code(m_decision, bin2words.keys()), bin2words))))\n",
    "print(\"Literal scene binary descr:\\t{}\".format(scene.get_bin_descr()))\n",
    "print(\"Compressed scene code:\\t\\t{}\".format(compressed_code))\n",
    "print(\"compression factor:\\t\\t{}\".format(len(compressed_code)/len(scene.get_bin_descr())))"
   ]
  },
  {
   "cell_type": "markdown",
   "metadata": {},
   "source": [
    "# Simulation 2"
   ]
  },
  {
   "cell_type": "markdown",
   "metadata": {
    "collapsed": true
   },
   "source": [
    "### Frank & Goodman Hat, Glasses, Mustache people..."
   ]
  },
  {
   "cell_type": "code",
   "execution_count": 15,
   "metadata": {
    "collapsed": true
   },
   "outputs": [],
   "source": [
    "# Elements\n",
    "words2bin = {\n",
    "    'h' : '00',\n",
    "    'g' : '10',\n",
    "    'm' : '01',\n",
    "    'n': '11',\n",
    "    '':''\n",
    "}\n",
    "\n",
    "bin2words = {\n",
    "    '00' : 'h',\n",
    "    '10' : 'g',\n",
    "    '01' : 'm',\n",
    "    '11' : 'n'\n",
    "}"
   ]
  },
  {
   "cell_type": "code",
   "execution_count": 16,
   "metadata": {
    "collapsed": true
   },
   "outputs": [],
   "source": [
    "class Object:\n",
    "    def __init__(self, hat, glasses, mustache, lang):\n",
    "        self.hat = 'h' if hat else ''\n",
    "        self.glasses = 'g' if glasses else ''\n",
    "        self.mustache = 'm' if mustache else ''\n",
    "        self.none = 'n' if hat | glasses | mustache == False else ''\n",
    "        self.lang = lang\n",
    "    \n",
    "    def has_glasses(self):\n",
    "        return self.glasses == 'g'\n",
    "    \n",
    "    def has_hat(self):\n",
    "        return self.hat == 'h'\n",
    "    \n",
    "    def has_mustache(self):\n",
    "        return self.mustache == 'm'\n",
    "    \n",
    "    def get_text_descr(self):\n",
    "        return ''.join([self.hat, self.glasses, self.mustache])\n",
    "    \n",
    "    def get_bin_descr(self):\n",
    "        return ''.join([self.lang[self.hat], self.lang[self.glasses], self.lang[self.mustache], self.lang[self.none]])\n",
    "\n",
    "class Scene:\n",
    "    def __init__(self, object1, object2, object3):\n",
    "        self.object1 = object1\n",
    "        self.object2 = object2\n",
    "        self.object3 = object3\n",
    "        self.scene = [self.object1, self.object2, self.object3]\n",
    "        self.literal_matrix = self.build_literal_matrix(*self.scene)        \n",
    "    \n",
    "    def get_text_descr(self):\n",
    "        return [self.object1.get_text_descr(), self.object2.get_text_descr(), self.object3.get_text_descr()]\n",
    "    \n",
    "    def get_bin_descr(self):\n",
    "        return self.object1.get_bin_descr() + self.object2.get_bin_descr() + self.object3.get_bin_descr()\n",
    "    \n",
    "    def get_scene(self):\n",
    "        return self.scene\n",
    "    \n",
    "    def build_literal_matrix(self, obj1, obj2, obj3):\n",
    "        return np.array([\n",
    "            np.array(list(map(has_hat, self.get_scene()))),\n",
    "            np.array(list(map(has_glasses, self.get_scene()))),\n",
    "            np.array(list(map(has_mustache, self.get_scene()))),\n",
    "            np.array(list(map(has_none, self.get_scene())))])\n",
    "    \n",
    "    def get_literal_matrix(self):\n",
    "        return self.literal_matrix"
   ]
  },
  {
   "cell_type": "code",
   "execution_count": 17,
   "metadata": {},
   "outputs": [],
   "source": [
    "def is_dim(dim):\n",
    "    def dim_lookup(obj):\n",
    "        if dim == 'hat':\n",
    "            return obj.has_hat()\n",
    "        elif dim == 'glasses':\n",
    "            return obj.has_glasses()\n",
    "        elif dim == 'mustache':\n",
    "            return obj.has_mustache()\n",
    "        elif dim == 'none':\n",
    "            return not obj.has_hat() | obj.has_glasses() | obj.has_mustache()\n",
    "    return dim_lookup\n",
    "\n",
    "has_hat = is_dim('hat')\n",
    "has_glasses = is_dim('glasses')\n",
    "has_mustache = is_dim('mustache')\n",
    "has_none = is_dim('none')"
   ]
  },
  {
   "cell_type": "markdown",
   "metadata": {},
   "source": [
    "World:\n",
    "\n",
    "[`none`] [`glasses`] [`hat, glasses`]"
   ]
  },
  {
   "cell_type": "code",
   "execution_count": 18,
   "metadata": {},
   "outputs": [],
   "source": [
    "obj1 = Object(False, False, False, words2bin)\n",
    "obj2 = Object(False, True, False, words2bin)\n",
    "obj3 = Object(True, True, False, words2bin)\n",
    "scene = Scene(obj1, obj2, obj3)"
   ]
  },
  {
   "cell_type": "code",
   "execution_count": 19,
   "metadata": {},
   "outputs": [
    {
     "name": "stdout",
     "output_type": "stream",
     "text": [
      "Literal scene description text:\t\t['', 'g', 'hg']\n",
      "Literal scene description text bin:\t11100010\n"
     ]
    }
   ],
   "source": [
    "print(\"Literal scene description text:\\t\\t{}\".format(scene.get_text_descr()))\n",
    "print(\"Literal scene description text bin:\\t{}\".format(scene.get_bin_descr()))"
   ]
  },
  {
   "cell_type": "code",
   "execution_count": 20,
   "metadata": {},
   "outputs": [
    {
     "name": "stdout",
     "output_type": "stream",
     "text": [
      "L1 matrix:\n",
      "[[ 0.    0.    1.  ]\n",
      " [ 0.    0.75  0.25]\n",
      " [ 0.    0.    0.  ]\n",
      " [ 1.    0.    0.  ]]\n",
      "\n",
      "L1 decision matrix:\n",
      "[[0 0 1]\n",
      " [0 1 0]\n",
      " [0 0 0]\n",
      " [1 0 0]]\n"
     ]
    }
   ],
   "source": [
    "m = rsa(scene.get_literal_matrix(), 3) # 1 = L0, 2 = S1, 2 = L1\n",
    "print(\"L1 matrix:\\n{}\".format(m))\n",
    "m_decision = round_matrix(m)\n",
    "print()\n",
    "print(\"L1 decision matrix:\\n{}\".format(m_decision))"
   ]
  },
  {
   "cell_type": "code",
   "execution_count": 21,
   "metadata": {},
   "outputs": [
    {
     "name": "stdout",
     "output_type": "stream",
     "text": [
      "Literal scene text descr:\t['', 'g', 'hg']\n",
      "compressed scene descr:\t\th g n\n",
      "Literal scene binary descr:\t11100010\n",
      "Compressed scene code:\t\t001011\n",
      "compression factor:\t\t0.75\n"
     ]
    }
   ],
   "source": [
    "compressed_code = ''.join(matrix2code(m_decision, bin2words.keys()))\n",
    "print(\"Literal scene text descr:\\t{}\".format(scene.get_text_descr()))\n",
    "print(\"compressed scene descr:\\t\\t{}\".format(' '.join(code2descr(matrix2code(m_decision, bin2words.keys()), bin2words))))\n",
    "print(\"Literal scene binary descr:\\t{}\".format(scene.get_bin_descr()))\n",
    "print(\"Compressed scene code:\\t\\t{}\".format(compressed_code))\n",
    "print(\"compression factor:\\t\\t{}\".format(len(compressed_code)/len(scene.get_bin_descr())))"
   ]
  }
 ],
 "metadata": {
  "kernelspec": {
   "display_name": "Python 3",
   "language": "python",
   "name": "python3"
  },
  "language_info": {
   "codemirror_mode": {
    "name": "ipython",
    "version": 3
   },
   "file_extension": ".py",
   "mimetype": "text/x-python",
   "name": "python",
   "nbconvert_exporter": "python",
   "pygments_lexer": "ipython3",
   "version": "3.6.1"
  }
 },
 "nbformat": 4,
 "nbformat_minor": 2
}
