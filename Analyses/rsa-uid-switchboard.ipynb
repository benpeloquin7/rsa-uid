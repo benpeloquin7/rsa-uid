{
 "cells": [
  {
   "cell_type": "markdown",
   "metadata": {},
   "source": [
    "# RSA-UID-switchbaord\n",
    "\n",
    "Investigating (possibly) meaningful disfluencies in switchboard\n",
    "\n",
    "### Objectives\n",
    "1. analysis: do disfluencies appear before high-surprisal items?\n",
    "2. listener exp: are listeners inclined to choose high-surprisal items as good candidates when they see 'uh'\n",
    "\n",
    "### Resources\n",
    "* Switchboard http://www.nltk.org/_modules/nltk/corpus/reader/switchboard.html\n",
    "* typing animation https://codepen.io/rusjames/pen/uAFhE"
   ]
  },
  {
   "cell_type": "code",
   "execution_count": 102,
   "metadata": {
    "collapsed": true
   },
   "outputs": [],
   "source": [
    "from collections import Counter, defaultdict\n",
    "import matplotlib.pyplot as plt\n",
    "from nltk.corpus import switchboard as sb\n",
    "import numpy as np\n",
    "import pandas as pd\n",
    "import pdb\n",
    "import random\n",
    "import re\n",
    "import seaborn as sns\n",
    "import sys\n",
    "import time\n",
    "\n",
    "%matplotlib inline  "
   ]
  },
  {
   "cell_type": "markdown",
   "metadata": {},
   "source": [
    "Example discourse..."
   ]
  },
  {
   "cell_type": "code",
   "execution_count": 2,
   "metadata": {
    "collapsed": true
   },
   "outputs": [],
   "source": [
    "discourses = [d for d in sb.discourses()]"
   ]
  },
  {
   "cell_type": "code",
   "execution_count": 3,
   "metadata": {},
   "outputs": [
    {
     "data": {
      "text/plain": [
       "[<A.1: 'Uh , do you have a pet Randy ?'>,\n",
       " <B.2: 'Uh , yeah , currently we have a poodle .'>,\n",
       " <A.3: 'A poodle , miniature or , uh , full size ?'>,\n",
       " <B.4: \"Yeah , uh , it 's , uh miniature .\">,\n",
       " <A.5: 'Uh-huh .'>]"
      ]
     },
     "execution_count": 3,
     "metadata": {},
     "output_type": "execute_result"
    }
   ],
   "source": [
    "discourses[0][:5]"
   ]
  },
  {
   "cell_type": "markdown",
   "metadata": {},
   "source": [
    "### Preprocessing helpers"
   ]
  },
  {
   "cell_type": "code",
   "execution_count": 4,
   "metadata": {
    "collapsed": true
   },
   "outputs": [],
   "source": [
    "def replace_start(s):\n",
    "    start_patt = r\"^<[AB]\\.[0-9]{1,}:\\s[\\'\\\"]\"\n",
    "    replace_patt = ''\n",
    "    s = re.sub(start_patt, replace_patt, s)\n",
    "    return s\n",
    "\n",
    "def replace_end(s):\n",
    "    end_patt = r\"\\s?\\'?>\"\n",
    "    replace_patt = ''\n",
    "    s = re.sub(end_patt, replace_patt, s)\n",
    "    return s\n",
    "\n",
    "def remove_punct(s):\n",
    "    s = re.sub('[,\\.\\?:\\{\\}\\[\\]]', '', s)\n",
    "    return s\n",
    "\n",
    "def turn2Str(t):\n",
    "    unicodeStr = t.unicode_repr()\n",
    "    s = preprocess_turn_str(unicodeStr)\n",
    "    return s\n",
    "\n",
    "def preprocess_turn_str(s):\n",
    "    s = replace_start(s)\n",
    "    s = replace_end(s)\n",
    "    s = remove_punct(s)\n",
    "    s = s.lower()\n",
    "    s = re.sub('\\s{2,}', ' ', s)\n",
    "    s = re.sub(r'\"$', '', s)\n",
    "    s = s.rstrip()\n",
    "    return s"
   ]
  },
  {
   "cell_type": "markdown",
   "metadata": {},
   "source": [
    "check..."
   ]
  },
  {
   "cell_type": "code",
   "execution_count": 5,
   "metadata": {},
   "outputs": [
    {
     "name": "stdout",
     "output_type": "stream",
     "text": [
      "<A.3: 'A poodle , miniature or , uh , full size ?'>\n"
     ]
    },
    {
     "data": {
      "text/plain": [
       "'a poodle miniature or uh full size'"
      ]
     },
     "execution_count": 5,
     "metadata": {},
     "output_type": "execute_result"
    }
   ],
   "source": [
    "exTurn = discourses[0][2]\n",
    "print(str(exTurn))\n",
    "turn2Str(exTurn)"
   ]
  },
  {
   "cell_type": "markdown",
   "metadata": {},
   "source": [
    "## Data"
   ]
  },
  {
   "cell_type": "code",
   "execution_count": 6,
   "metadata": {},
   "outputs": [],
   "source": [
    "def removeUhs(s):\n",
    "    uh_patt = r'\\suh\\s'\n",
    "    return re.sub(uh_patt, ' ', s)\n",
    "# removeUhs('a poodle miniature or uh full size')"
   ]
  },
  {
   "cell_type": "code",
   "execution_count": 7,
   "metadata": {
    "collapsed": true
   },
   "outputs": [],
   "source": [
    "allStrs = [turn2Str(t) for d in discourses for t in d]\n",
    "allStrsStartEnd = ['^ ' + s + ' $' for s in allStrs]\n",
    "allStrsNoUhs = [removeUhs(s) for s in allStrsStartEnd]\n",
    "orderedTokensAll = ' '.join(allStrsStartEnd).split(' ')\n",
    "orderedTokensNoUhs = ' '.join(allStrsNoUhs).split(' ')"
   ]
  },
  {
   "cell_type": "markdown",
   "metadata": {},
   "source": [
    "### LM"
   ]
  },
  {
   "cell_type": "code",
   "execution_count": 8,
   "metadata": {
    "collapsed": true
   },
   "outputs": [],
   "source": [
    "class Ngram:\n",
    "    def __init__(self, n=2):\n",
    "        self.n = n\n",
    "        self.vocab_size = 0\n",
    "        \n",
    "    def ingest(self, orderedTokens):\n",
    "        self.vocab_size = len(orderedTokens)\n",
    "        d = defaultdict(Counter)\n",
    "        for i, word in enumerate(orderedTokens):\n",
    "            if i == len(orderedTokens)-self.n:\n",
    "                break\n",
    "            currTup = tuple(orderedTokens[i:i+self.n-1])\n",
    "            d[currTup][orderedTokens[i+self.n-1]] += 1\n",
    "        self.lm = d\n",
    "        \n",
    "    def get_lm(self):\n",
    "        return self.lm\n",
    "    \n",
    "    def get_candidates(self, token):\n",
    "        return self.lm[token]\n",
    "    \n",
    "    def get_cond_prob(self, tup):\n",
    "        context = tup[0:self.n-1]\n",
    "        target = tup[self.n-1]\n",
    "        num = self.lm[context][target]\n",
    "        denom = np.sum([d[1] for d in self.lm[context].items()])\n",
    "        return num / denom if denom != 0 else 0.0\n",
    "    \n",
    "    def get_cond_count(self, tup):\n",
    "        context = tup[0:self.n-1]\n",
    "        target = tup[self.n-1]\n",
    "        num = self.lm[context][target]\n",
    "        return num      \n",
    "        "
   ]
  },
  {
   "cell_type": "markdown",
   "metadata": {},
   "source": [
    "check..."
   ]
  },
  {
   "cell_type": "code",
   "execution_count": 9,
   "metadata": {},
   "outputs": [
    {
     "data": {
      "text/plain": [
       "1"
      ]
     },
     "execution_count": 9,
     "metadata": {},
     "output_type": "execute_result"
    }
   ],
   "source": [
    "ng2 = Ngram(n=2)\n",
    "ng3 = Ngram(n=3)\n",
    "exCorpus = ['apple', 'on', 'the', 'apple', 'on', 'a', 'range', 'apple']\n",
    "ng2.ingest(exCorpus)\n",
    "ng3.ingest(exCorpus)\n",
    "ng2.get_cond_count(('on', 'apple'))\n",
    "ng3.get_cond_count(('on', 'the', 'apple'))"
   ]
  },
  {
   "cell_type": "markdown",
   "metadata": {},
   "source": [
    "## Reproducing Levy & Jaeger (2007) that-omission analysis (section 4)"
   ]
  },
  {
   "cell_type": "markdown",
   "metadata": {
    "collapsed": true
   },
   "source": [
    "**Objective**:\n",
    "What is the relationship between `uh/um` presence and the informativity of the following text?\n",
    "* H_0: there is no relationship\n",
    "* H_1: presence of `uh/um` indicates the following content is high-surprisal."
   ]
  },
  {
   "cell_type": "code",
   "execution_count": 10,
   "metadata": {
    "collapsed": true
   },
   "outputs": [],
   "source": [
    "ng_all = Ngram(n=3)\n",
    "ng_all.ingest(orderedTokensAll)\n",
    "ng_no_uh = Ngram(n=2)\n",
    "ng_no_uh.ingest(orderedTokensNoUhs)"
   ]
  },
  {
   "cell_type": "code",
   "execution_count": 11,
   "metadata": {},
   "outputs": [
    {
     "data": {
      "text/plain": [
       "'^ uh do you have a pet randy $'"
      ]
     },
     "execution_count": 11,
     "metadata": {},
     "output_type": "execute_result"
    }
   ],
   "source": [
    "uhStrs = [s for s in allStrsStartEnd if 'uh' in s.split()]\n",
    "uhStrs[0]"
   ]
  },
  {
   "cell_type": "code",
   "execution_count": 12,
   "metadata": {
    "collapsed": true
   },
   "outputs": [],
   "source": [
    "def getKtuple(s, k=2):\n",
    "    s_split = s.split(' ')\n",
    "    d = []\n",
    "    for i, token in enumerate(s_split):\n",
    "        if i == len(s_split)-k:\n",
    "            break\n",
    "        curr_tup = tuple(s_split[i:i+k])\n",
    "        d.append(curr_tup)\n",
    "    return d\n",
    "\n",
    "# getKtuple(uhStrs[0])"
   ]
  },
  {
   "cell_type": "code",
   "execution_count": 13,
   "metadata": {
    "collapsed": true
   },
   "outputs": [],
   "source": [
    "def getSentProbs(s, model, n):\n",
    "    d = {}\n",
    "    for tup in getKtuple(s, n):\n",
    "        d[tup] = model.get_lm_prob(tup)\n",
    "    return d\n",
    "\n",
    "# getSentProbs(removeUhs(uhStrs[0]), ng_no_uh, n)"
   ]
  },
  {
   "cell_type": "markdown",
   "metadata": {},
   "source": [
    "### Todo\n",
    "\n",
    "* Get all instances of find all context / targets (w/ and w/o disfluencies and get surprisal)"
   ]
  },
  {
   "cell_type": "code",
   "execution_count": 14,
   "metadata": {
    "collapsed": true
   },
   "outputs": [],
   "source": [
    "d = []\n",
    "for s in uhStrs:\n",
    "    three_tuples = getKtuple(s, 3)\n",
    "    for i, k in enumerate(three_tuples):\n",
    "        if k[1] == 'uh' and sum([i == 'uh' for i in k]) == 1:\n",
    "            before = k[0]\n",
    "            after = k[2]\n",
    "            t = (before, after)\n",
    "            non_uh_cnt = ng_no_uh.get_cond_count(t)\n",
    "            uh_cnt = ng_all.get_cond_count(k)\n",
    "            if uh_cnt > non_uh_cnt:\n",
    "                pdb.set_trace()\n",
    "            lik = uh_cnt / non_uh_cnt\n",
    "            surp = np.log2(ng_no_uh.get_cond_prob(t))\n",
    "            data = {\n",
    "                'before': before,\n",
    "                'after': after,\n",
    "                'lik': lik,\n",
    "                'supr': surp,\n",
    "                'total':non_uh_cnt\n",
    "            }\n",
    "            d.append(data)"
   ]
  },
  {
   "cell_type": "code",
   "execution_count": 15,
   "metadata": {
    "collapsed": true
   },
   "outputs": [],
   "source": [
    "df = pd.DataFrame(d).drop_duplicates()\n",
    "# df.to_csv('switchboard-uh-data-20171214.csv')"
   ]
  },
  {
   "cell_type": "code",
   "execution_count": 17,
   "metadata": {},
   "outputs": [
    {
     "data": {
      "text/plain": [
       "<matplotlib.axes._subplots.AxesSubplot at 0x1a18400748>"
      ]
     },
     "execution_count": 17,
     "metadata": {},
     "output_type": "execute_result"
    },
    {
     "data": {
      "image/png": "[encoded data removed]",
      "text/plain": [
       "<matplotlib.figure.Figure at 0x1a183dfdd8>"
      ]
     },
     "metadata": {},
     "output_type": "display_data"
    }
   ],
   "source": [
    "sns.regplot(x='supr', y='lik', data=df[df['total']>10])"
   ]
  },
  {
   "cell_type": "markdown",
   "metadata": {},
   "source": [
    "## Experiment - brainstorm\n",
    "\n",
    "* Task: sentence completion - particiants see a sentence fragment and have to fill in the missing item from a choice of five candidates. \n",
    "    + include the \"true\" candidate?\n",
    "    + include a spectrum of high->low suprisal items\n",
    "* What if we had people incrementally build sentences from the LM candidates?\n",
    "    "
   ]
  },
  {
   "cell_type": "code",
   "execution_count": 18,
   "metadata": {
    "collapsed": true
   },
   "outputs": [],
   "source": [
    "ng = Ngram(2)\n",
    "ng.ingest(orderedTokensAll)"
   ]
  },
  {
   "cell_type": "code",
   "execution_count": 19,
   "metadata": {
    "collapsed": true
   },
   "outputs": [],
   "source": [
    "# sent = random.choice(allStrs).split(' ')\n",
    "# index = random.randint(0, len(sent))\n",
    "# sent[:index]\n",
    "exSent = 'yeah i have a uh well a mutt myself i call it a uh uh chowperd'\n",
    "exSentSplit = exSent.split(' ')\n",
    "index = random.randint(1, len(exSentSplit)-1)\n",
    "fragment = exSentSplit[:index]"
   ]
  },
  {
   "cell_type": "code",
   "execution_count": 20,
   "metadata": {},
   "outputs": [
    {
     "name": "stdout",
     "output_type": "stream",
     "text": [
      "yeah\n"
     ]
    }
   ],
   "source": [
    "lastToken = fragment[-1]\n",
    "print(lastToken)\n",
    "trueCandidate = exSentSplit[index]"
   ]
  },
  {
   "cell_type": "code",
   "execution_count": 22,
   "metadata": {},
   "outputs": [],
   "source": [
    "lm_candidates = list(ng.get_candidates((lastToken,)).keys())\n",
    "candidates = set(random.sample(lm_candidates, min(5, len(lm_candidates)))) | {trueCandidate}"
   ]
  },
  {
   "cell_type": "code",
   "execution_count": 23,
   "metadata": {},
   "outputs": [
    {
     "name": "stdout",
     "output_type": "stream",
     "text": [
      "Full utterace:\tyeah i have a uh well a mutt myself i call it a uh uh chowperd\n",
      "Fragment:\tyeah\n",
      "Last token:\tyeah\n",
      "Candidates:\t{'thank', 'have', 'i', 'in', 'exactly', '$'}\n",
      "True candidate:\ti\n"
     ]
    }
   ],
   "source": [
    "print(\"Full utterace:\\t{}\".format(exSent))\n",
    "print('Fragment:\\t{}'.format(' '.join(fragment)))\n",
    "print('Last token:\\t{}'.format(lastToken))\n",
    "print('Candidates:\\t{}'.format(candidates))\n",
    "print('True candidate:\\t{}'.format(trueCandidate))"
   ]
  },
  {
   "cell_type": "markdown",
   "metadata": {},
   "source": [
    "## Experiment - just \"uh's\""
   ]
  },
  {
   "cell_type": "code",
   "execution_count": 32,
   "metadata": {},
   "outputs": [
    {
     "data": {
      "text/plain": [
       "'^ uh and colorado is a beautiful place to live $'"
      ]
     },
     "execution_count": 32,
     "metadata": {},
     "output_type": "execute_result"
    }
   ],
   "source": [
    "uhStrs = [s for s in allStrsStartEnd if 'uh' in s.split()]\n",
    "uhStrs_sample = random.sample(uhStrs, 10)\n",
    "uhStrs_sample[0]"
   ]
  },
  {
   "cell_type": "code",
   "execution_count": 33,
   "metadata": {
    "collapsed": true
   },
   "outputs": [],
   "source": [
    "def get_match_indices(x, s):\n",
    "    return [i for i, w in enumerate(s.split(' ')) if w == x]"
   ]
  },
  {
   "cell_type": "code",
   "execution_count": 34,
   "metadata": {},
   "outputs": [
    {
     "data": {
      "text/plain": [
       "1"
      ]
     },
     "execution_count": 34,
     "metadata": {},
     "output_type": "execute_result"
    }
   ],
   "source": [
    "indices = get_match_indices('uh', uhStrs_sample[0])\n",
    "index = indices[0]; index"
   ]
  },
  {
   "cell_type": "code",
   "execution_count": 35,
   "metadata": {},
   "outputs": [
    {
     "data": {
      "text/plain": [
       "'^ uh'"
      ]
     },
     "execution_count": 35,
     "metadata": {},
     "output_type": "execute_result"
    }
   ],
   "source": [
    "' '.join(uhStrs_sample[0].split(' ')[0:index+1])"
   ]
  },
  {
   "cell_type": "code",
   "execution_count": 66,
   "metadata": {
    "collapsed": true
   },
   "outputs": [],
   "source": [
    "class categoricalDistr:\n",
    "    def __init__(self, vs, ps):\n",
    "        self.vs = vs\n",
    "        self.ps = ps\n",
    "        self.normed_ps = self.normalize(self.ps)\n",
    "        self.distr = dict(zip(self.vs, self.normed_ps))\n",
    "        \n",
    "    def sample(self, k=5):\n",
    "        vals = np.random.choice(a=self.vs, size=(k), p=self.normed_ps)\n",
    "        d = {}\n",
    "        for v in vals:\n",
    "            d[v] = self.distr[v]\n",
    "        return d\n",
    "    \n",
    "    def get_prob(self, x):\n",
    "        return self.distr[x]\n",
    "\n",
    "    def normalize(self, x):\n",
    "        return x / np.sum(x)\n",
    "        \n"
   ]
  },
  {
   "cell_type": "code",
   "execution_count": 67,
   "metadata": {
    "collapsed": true
   },
   "outputs": [],
   "source": [
    "vs = list(ng.get_candidates(('uh',)).keys())\n",
    "ps = list(ng.get_candidates(('uh',)).values())\n",
    "C = categoricalDistr(vs, ps)"
   ]
  },
  {
   "cell_type": "code",
   "execution_count": 68,
   "metadata": {},
   "outputs": [
    {
     "data": {
      "text/plain": [
       "{'i': 0.11304347826086956,\n",
       " 'it': 0.029249011857707511,\n",
       " 'rape': 0.00079051383399209485,\n",
       " 'they': 0.020553359683794466,\n",
       " 'uh': 0.039525691699604744}"
      ]
     },
     "execution_count": 68,
     "metadata": {},
     "output_type": "execute_result"
    }
   ],
   "source": [
    "C.sample()"
   ]
  },
  {
   "cell_type": "code",
   "execution_count": 69,
   "metadata": {},
   "outputs": [
    {
     "data": {
      "text/plain": [
       "0.11304347826086956"
      ]
     },
     "execution_count": 69,
     "metadata": {},
     "output_type": "execute_result"
    }
   ],
   "source": [
    "C.get_prob('i')"
   ]
  },
  {
   "cell_type": "code",
   "execution_count": 109,
   "metadata": {},
   "outputs": [
    {
     "name": "stdout",
     "output_type": "stream",
     "text": [
      "------\n",
      "Evaluate:\n",
      "\n",
      "^ but uh we were we 're very active of course at church and uh\n",
      "Please choose one:\t['they', 'and', 'scouting']\n",
      "Choice (1, 2, 3, 4):scouting\n"
     ]
    },
    {
     "ename": "IndexError",
     "evalue": "list index out of range",
     "output_type": "error",
     "traceback": [
      "\u001b[0;31m---------------------------------------------------------------------------\u001b[0m",
      "\u001b[0;31mIndexError\u001b[0m                                Traceback (most recent call last)",
      "\u001b[0;32m<ipython-input-109-eec26a7a75be>\u001b[0m in \u001b[0;36m<module>\u001b[0;34m()\u001b[0m\n\u001b[1;32m     38\u001b[0m     \u001b[0;32mreturn\u001b[0m \u001b[0md\u001b[0m\u001b[0;34m\u001b[0m\u001b[0m\n\u001b[1;32m     39\u001b[0m \u001b[0;34m\u001b[0m\u001b[0m\n\u001b[0;32m---> 40\u001b[0;31m \u001b[0md\u001b[0m \u001b[0;34m=\u001b[0m \u001b[0mrunExperiment\u001b[0m\u001b[0;34m(\u001b[0m\u001b[0;36m3\u001b[0m\u001b[0;34m)\u001b[0m\u001b[0;34m\u001b[0m\u001b[0m\n\u001b[0m",
      "\u001b[0;32m<ipython-input-109-eec26a7a75be>\u001b[0m in \u001b[0;36mrunExperiment\u001b[0;34m(n_iters, num_candidates)\u001b[0m\n\u001b[1;32m      8\u001b[0m         \u001b[0mindex\u001b[0m \u001b[0;34m=\u001b[0m \u001b[0mrandom\u001b[0m\u001b[0;34m.\u001b[0m\u001b[0mrandint\u001b[0m\u001b[0;34m(\u001b[0m\u001b[0;36m1\u001b[0m\u001b[0;34m,\u001b[0m \u001b[0mlen\u001b[0m\u001b[0;34m(\u001b[0m\u001b[0msent_split\u001b[0m\u001b[0;34m)\u001b[0m\u001b[0;34m-\u001b[0m\u001b[0;36m1\u001b[0m\u001b[0;34m)\u001b[0m\u001b[0;34m\u001b[0m\u001b[0m\n\u001b[1;32m      9\u001b[0m         \u001b[0mtarget\u001b[0m \u001b[0;34m=\u001b[0m \u001b[0msent_split\u001b[0m\u001b[0;34m[\u001b[0m\u001b[0mindex\u001b[0m\u001b[0;34m]\u001b[0m\u001b[0;34m\u001b[0m\u001b[0m\n\u001b[0;32m---> 10\u001b[0;31m         \u001b[0mtrue_candidate\u001b[0m \u001b[0;34m=\u001b[0m \u001b[0msent_split\u001b[0m\u001b[0;34m[\u001b[0m\u001b[0mindex\u001b[0m\u001b[0;34m+\u001b[0m\u001b[0;36m1\u001b[0m\u001b[0;34m]\u001b[0m\u001b[0;34m\u001b[0m\u001b[0m\n\u001b[0m\u001b[1;32m     11\u001b[0m         \u001b[0mfragment\u001b[0m \u001b[0;34m=\u001b[0m \u001b[0msent_split\u001b[0m\u001b[0;34m[\u001b[0m\u001b[0;34m:\u001b[0m\u001b[0mindex\u001b[0m\u001b[0;34m]\u001b[0m\u001b[0;34m\u001b[0m\u001b[0m\n\u001b[1;32m     12\u001b[0m         \u001b[0mfragment_str\u001b[0m \u001b[0;34m=\u001b[0m \u001b[0;34m' '\u001b[0m\u001b[0;34m.\u001b[0m\u001b[0mjoin\u001b[0m\u001b[0;34m(\u001b[0m\u001b[0mfragment\u001b[0m\u001b[0;34m)\u001b[0m\u001b[0;34m\u001b[0m\u001b[0m\n",
      "\u001b[0;31mIndexError\u001b[0m: list index out of range"
     ]
    }
   ],
   "source": [
    "def runExperiment(n_iters=10, num_candidates=3):\n",
    "    d = []\n",
    "    random.shuffle(uhStrs)\n",
    "    for i, sent in enumerate(uhStrs):\n",
    "        if i >= n_iters:\n",
    "            break\n",
    "        sent_split = sent.split(' ')\n",
    "        index = random.randint(1, len(sent_split)-1)\n",
    "        target = sent_split[index]\n",
    "        true_candidate = sent_split[index+1]\n",
    "        fragment = sent_split[:index]\n",
    "        fragment_str = ' '.join(fragment)\n",
    "        vs = list(ng.get_candidates((target,)).keys())\n",
    "        ps = list(ng.get_candidates((target,)).values())\n",
    "        C = categoricalDistr(vs, ps)\n",
    "        candidates = C.sample(num_candidates)\n",
    "        candidates[true_candidate] = C.get_prob(true_candidate)\n",
    "        if len(candidates) < num_candidates or len(fragment) < 3:\n",
    "            continue\n",
    "        candidate_keys = list(candidates.keys())\n",
    "        candidate_vals = list(candidates.values())\n",
    "        print('------')\n",
    "        print(\"Evaluate:\\n\")\n",
    "        for ch in fragment_str:\n",
    "            print(ch, end='')\n",
    "            time.sleep(0.1)\n",
    "        print(\"\\nPlease choose one:\\t{}\".format(candidate_keys))\n",
    "        user_choice = input(\"Choice (1, 2, 3, 4):\")\n",
    "        data = {}\n",
    "        for i, (k, v) in enumerate(candidates.items()):\n",
    "            data['candidate' + str(i) + '_key'] = k\n",
    "            data['candidate' + str(i) + '_val'] = v\n",
    "        data['frag'] = fragment_str\n",
    "        data['true_candidate_key'] = true_candidate\n",
    "        data['true_candidate_val'] = candidates[true_candidate]\n",
    "        data['choice'] = user_choice\n",
    "        d.append(data)\n",
    "    return d\n",
    "    \n",
    "d = runExperiment(3)"
   ]
  },
  {
   "cell_type": "code",
   "execution_count": 104,
   "metadata": {},
   "outputs": [],
   "source": [
    "df = pd.DataFrame(d)"
   ]
  },
  {
   "cell_type": "code",
   "execution_count": 105,
   "metadata": {},
   "outputs": [],
   "source": [
    "df['correct'] = df['choice'] == df['true_candidate_key']"
   ]
  },
  {
   "cell_type": "code",
   "execution_count": 106,
   "metadata": {},
   "outputs": [
    {
     "data": {
      "text/html": [
       "<div>\n",
       "<style scoped>\n",
       "    .dataframe tbody tr th:only-of-type {\n",
       "        vertical-align: middle;\n",
       "    }\n",
       "\n",
       "    .dataframe tbody tr th {\n",
       "        vertical-align: top;\n",
       "    }\n",
       "\n",
       "    .dataframe thead th {\n",
       "        text-align: right;\n",
       "    }\n",
       "</style>\n",
       "<table border=\"1\" class=\"dataframe\">\n",
       "  <thead>\n",
       "    <tr style=\"text-align: right;\">\n",
       "      <th></th>\n",
       "      <th>candidate0_key</th>\n",
       "      <th>candidate0_val</th>\n",
       "      <th>candidate1_key</th>\n",
       "      <th>candidate1_val</th>\n",
       "      <th>candidate2_key</th>\n",
       "      <th>candidate2_val</th>\n",
       "      <th>candidate3_key</th>\n",
       "      <th>candidate3_val</th>\n",
       "      <th>choice</th>\n",
       "      <th>frag</th>\n",
       "      <th>true_candidate_key</th>\n",
       "      <th>true_candidate_val</th>\n",
       "      <th>correct</th>\n",
       "    </tr>\n",
       "  </thead>\n",
       "  <tbody>\n",
       "    <tr>\n",
       "      <th>0</th>\n",
       "      <td>worth</td>\n",
       "      <td>0.003082</td>\n",
       "      <td>very</td>\n",
       "      <td>0.013097</td>\n",
       "      <td>nice</td>\n",
       "      <td>0.004622</td>\n",
       "      <td>more</td>\n",
       "      <td>0.003082</td>\n",
       "      <td>more</td>\n",
       "      <td>^ -- more than that</td>\n",
       "      <td>more</td>\n",
       "      <td>0.003082</td>\n",
       "      <td>True</td>\n",
       "    </tr>\n",
       "    <tr>\n",
       "      <th>1</th>\n",
       "      <td>paycheck</td>\n",
       "      <td>0.014493</td>\n",
       "      <td>conversation</td>\n",
       "      <td>0.014493</td>\n",
       "      <td>little</td>\n",
       "      <td>0.007246</td>\n",
       "      <td>forms</td>\n",
       "      <td>0.007246</td>\n",
       "      <td>forms</td>\n",
       "      <td>^ well tur turn in</td>\n",
       "      <td>forms</td>\n",
       "      <td>0.007246</td>\n",
       "      <td>True</td>\n",
       "    </tr>\n",
       "    <tr>\n",
       "      <th>2</th>\n",
       "      <td>convinced</td>\n",
       "      <td>0.003378</td>\n",
       "      <td>knowing</td>\n",
       "      <td>0.010135</td>\n",
       "      <td>very</td>\n",
       "      <td>0.027027</td>\n",
       "      <td>me</td>\n",
       "      <td>0.003378</td>\n",
       "      <td>me</td>\n",
       "      <td>^ uh i 'm sure singers and professional people...</td>\n",
       "      <td>me</td>\n",
       "      <td>0.003378</td>\n",
       "      <td>True</td>\n",
       "    </tr>\n",
       "  </tbody>\n",
       "</table>\n",
       "</div>"
      ],
      "text/plain": [
       "  candidate0_key  candidate0_val candidate1_key  candidate1_val  \\\n",
       "0          worth        0.003082           very        0.013097   \n",
       "1       paycheck        0.014493   conversation        0.014493   \n",
       "2      convinced        0.003378        knowing        0.010135   \n",
       "\n",
       "  candidate2_key  candidate2_val candidate3_key  candidate3_val choice  \\\n",
       "0           nice        0.004622           more        0.003082   more   \n",
       "1         little        0.007246          forms        0.007246  forms   \n",
       "2           very        0.027027             me        0.003378     me   \n",
       "\n",
       "                                                frag true_candidate_key  \\\n",
       "0                                ^ -- more than that               more   \n",
       "1                                 ^ well tur turn in              forms   \n",
       "2  ^ uh i 'm sure singers and professional people...                 me   \n",
       "\n",
       "   true_candidate_val  correct  \n",
       "0            0.003082     True  \n",
       "1            0.007246     True  \n",
       "2            0.003378     True  "
      ]
     },
     "execution_count": 106,
     "metadata": {},
     "output_type": "execute_result"
    }
   ],
   "source": [
    "df.head()"
   ]
  },
  {
   "cell_type": "code",
   "execution_count": null,
   "metadata": {
    "collapsed": true
   },
   "outputs": [],
   "source": []
  }
 ],
 "metadata": {
  "kernelspec": {
   "display_name": "Python 3",
   "language": "python",
   "name": "python3"
  },
  "language_info": {
   "codemirror_mode": {
    "name": "ipython",
    "version": 3
   },
   "file_extension": ".py",
   "mimetype": "text/x-python",
   "name": "python",
   "nbconvert_exporter": "python",
   "pygments_lexer": "ipython3",
   "version": "3.6.1"
  }
 },
 "nbformat": 4,
 "nbformat_minor": 2
}
