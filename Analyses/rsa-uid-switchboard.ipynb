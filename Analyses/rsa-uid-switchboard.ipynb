{
 "cells": [
  {
   "cell_type": "markdown",
   "metadata": {},
   "source": [
    "# RSA-UID-switchbaord\n",
    "\n",
    "Investigating (possibly) meaningful disfluencies in switchboard\n",
    "\n",
    "### Objectives\n",
    "1. analysis: do disfluencies appear before high-surprisal items?\n",
    "2. listener exp: are listeners inclined to choose high-surprisal items as good candidates when they see 'uh'\n",
    "\n",
    "### Resources\n",
    "* Switchboard http://www.nltk.org/_modules/nltk/corpus/reader/switchboard.html\n",
    "* typing animation https://codepen.io/rusjames/pen/uAFhE"
   ]
  },
  {
   "cell_type": "code",
   "execution_count": 1,
   "metadata": {
    "collapsed": true
   },
   "outputs": [],
   "source": [
    "from collections import Counter, defaultdict\n",
    "import matplotlib.pyplot as plt\n",
    "from nltk.corpus import switchboard as sb\n",
    "import numpy as np\n",
    "import pandas as pd\n",
    "import pdb\n",
    "import random\n",
    "import re\n",
    "import seaborn as sns\n",
    "import sys\n",
    "import time\n",
    "\n",
    "%matplotlib inline  "
   ]
  },
  {
   "cell_type": "markdown",
   "metadata": {},
   "source": [
    "Example discourse..."
   ]
  },
  {
   "cell_type": "code",
   "execution_count": 2,
   "metadata": {
    "collapsed": true
   },
   "outputs": [],
   "source": [
    "discourses = [d for d in sb.discourses()]"
   ]
  },
  {
   "cell_type": "code",
   "execution_count": 3,
   "metadata": {},
   "outputs": [
    {
     "data": {
      "text/plain": [
       "[<A.1: 'Uh , do you have a pet Randy ?'>,\n",
       " <B.2: 'Uh , yeah , currently we have a poodle .'>,\n",
       " <A.3: 'A poodle , miniature or , uh , full size ?'>,\n",
       " <B.4: \"Yeah , uh , it 's , uh miniature .\">,\n",
       " <A.5: 'Uh-huh .'>]"
      ]
     },
     "execution_count": 3,
     "metadata": {},
     "output_type": "execute_result"
    }
   ],
   "source": [
    "discourses[0][:5]"
   ]
  },
  {
   "cell_type": "markdown",
   "metadata": {},
   "source": [
    "### Preprocessing helpers"
   ]
  },
  {
   "cell_type": "code",
   "execution_count": 4,
   "metadata": {
    "collapsed": true
   },
   "outputs": [],
   "source": [
    "def replace_start(s):\n",
    "    start_patt = r\"^<[AB]\\.[0-9]{1,}:\\s[\\'\\\"]\"\n",
    "    replace_patt = ''\n",
    "    s = re.sub(start_patt, replace_patt, s)\n",
    "    return s\n",
    "\n",
    "def replace_end(s):\n",
    "    end_patt = r\"\\s?\\'?>\"\n",
    "    replace_patt = ''\n",
    "    s = re.sub(end_patt, replace_patt, s)\n",
    "    return s\n",
    "\n",
    "def remove_punct(s):\n",
    "    s = re.sub('[,\\.\\?:\\{\\}\\[\\]]', '', s)\n",
    "    return s\n",
    "\n",
    "def turn2Str(t):\n",
    "    unicodeStr = t.unicode_repr()\n",
    "    s = preprocess_turn_str(unicodeStr)\n",
    "    return s\n",
    "\n",
    "def preprocess_turn_str(s):\n",
    "    s = replace_start(s)\n",
    "    s = replace_end(s)\n",
    "    s = remove_punct(s)\n",
    "    s = s.lower()\n",
    "    s = re.sub('\\s{2,}', ' ', s)\n",
    "    s = re.sub(r'\"$', '', s)\n",
    "    s = s.rstrip()\n",
    "    return s"
   ]
  },
  {
   "cell_type": "markdown",
   "metadata": {},
   "source": [
    "check..."
   ]
  },
  {
   "cell_type": "code",
   "execution_count": 5,
   "metadata": {},
   "outputs": [
    {
     "name": "stdout",
     "output_type": "stream",
     "text": [
      "<A.3: 'A poodle , miniature or , uh , full size ?'>\n"
     ]
    },
    {
     "data": {
      "text/plain": [
       "'a poodle miniature or uh full size'"
      ]
     },
     "execution_count": 5,
     "metadata": {},
     "output_type": "execute_result"
    }
   ],
   "source": [
    "exTurn = discourses[0][2]\n",
    "print(str(exTurn))\n",
    "turn2Str(exTurn)"
   ]
  },
  {
   "cell_type": "markdown",
   "metadata": {},
   "source": [
    "## Data"
   ]
  },
  {
   "cell_type": "code",
   "execution_count": 41,
   "metadata": {},
   "outputs": [
    {
     "data": {
      "text/plain": [
       "'a poodle miniature or full size'"
      ]
     },
     "execution_count": 41,
     "metadata": {},
     "output_type": "execute_result"
    }
   ],
   "source": [
    "def removeDisfluencies(s):\n",
    "    uh_patt = r'\\suh\\s'\n",
    "    um_patt = r'\\sum\\s'\n",
    "    edited_s = re.sub(uh_patt, ' ', s)\n",
    "    edited_s = re.sub(um_patt, ' ', edited_s)\n",
    "    return edited_s\n",
    "# removeDisfluencies('a poodle miniature or uh full um size')"
   ]
  },
  {
   "cell_type": "code",
   "execution_count": 59,
   "metadata": {
    "collapsed": true
   },
   "outputs": [],
   "source": [
    "allStrs = [turn2Str(t) for d in discourses for t in d]\n",
    "allStrsStartEnd = ['^ ' + s + ' $' for s in allStrs]\n",
    "allStrsNoDisfluencies = [removeDisfluencies(s) for s in allStrsStartEnd]\n",
    "orderedTokensAll = ' '.join(allStrsStartEnd).split(' ')\n",
    "orderedTokensNoDisfluencies = ' '.join(allStrsNoDisfluencies).split(' ')"
   ]
  },
  {
   "cell_type": "markdown",
   "metadata": {},
   "source": [
    "### LM"
   ]
  },
  {
   "cell_type": "code",
   "execution_count": 60,
   "metadata": {
    "collapsed": true
   },
   "outputs": [],
   "source": [
    "class Ngram:\n",
    "    def __init__(self, n=2):\n",
    "        self.n = n\n",
    "        self.vocab_size = 0\n",
    "        \n",
    "    def ingest(self, orderedTokens):\n",
    "        self.vocab_size = len(orderedTokens)\n",
    "        d = defaultdict(Counter)\n",
    "        for i, word in enumerate(orderedTokens):\n",
    "            if i == len(orderedTokens)-self.n:\n",
    "                break\n",
    "            currTup = tuple(orderedTokens[i:i+self.n-1])\n",
    "            d[currTup][orderedTokens[i+self.n-1]] += 1\n",
    "        self.lm = d\n",
    "        \n",
    "    def get_lm(self):\n",
    "        return self.lm\n",
    "    \n",
    "    def get_candidates(self, token):\n",
    "        return self.lm[token]\n",
    "    \n",
    "    def get_cond_prob(self, tup):\n",
    "        context = tup[0:self.n-1]\n",
    "        target = tup[self.n-1]\n",
    "        num = self.lm[context][target]\n",
    "        denom = np.sum([d[1] for d in self.lm[context].items()])\n",
    "        return num / denom if denom != 0 else 0.0\n",
    "    \n",
    "    def get_cond_count(self, tup):\n",
    "        context = tup[0:self.n-1]\n",
    "        target = tup[self.n-1]\n",
    "        num = self.lm[context][target]\n",
    "        return num      \n",
    "        "
   ]
  },
  {
   "cell_type": "markdown",
   "metadata": {},
   "source": [
    "check..."
   ]
  },
  {
   "cell_type": "code",
   "execution_count": 61,
   "metadata": {},
   "outputs": [
    {
     "data": {
      "text/plain": [
       "1"
      ]
     },
     "execution_count": 61,
     "metadata": {},
     "output_type": "execute_result"
    }
   ],
   "source": [
    "ng2 = Ngram(n=2)\n",
    "ng3 = Ngram(n=3)\n",
    "exCorpus = ['apple', 'on', 'the', 'apple', 'on', 'a', 'range', 'apple']\n",
    "ng2.ingest(exCorpus)\n",
    "ng3.ingest(exCorpus)\n",
    "ng2.get_cond_count(('on', 'apple'))\n",
    "ng3.get_cond_count(('on', 'the', 'apple'))"
   ]
  },
  {
   "cell_type": "markdown",
   "metadata": {},
   "source": [
    "## Reproducing Levy & Jaeger (2007) that-omission analysis (section 4)"
   ]
  },
  {
   "cell_type": "markdown",
   "metadata": {
    "collapsed": true
   },
   "source": [
    "**Objective**:\n",
    "What is the relationship between `uh/um` presence and the informativity of the following text?\n",
    "* H_0: there is no relationship\n",
    "* H_1: presence of `uh/um` indicates the following content is high-surprisal."
   ]
  },
  {
   "cell_type": "code",
   "execution_count": 62,
   "metadata": {
    "collapsed": true
   },
   "outputs": [],
   "source": [
    "ng_all = Ngram(n=3)\n",
    "ng_all.ingest(orderedTokensAll)\n",
    "ng_no_disfluencies = Ngram(n=2)\n",
    "ng_no_disfluencies.ingest(orderedTokensNoDisfluencies)"
   ]
  },
  {
   "cell_type": "code",
   "execution_count": 63,
   "metadata": {},
   "outputs": [
    {
     "data": {
      "text/plain": [
       "'^ and we do a lot of um stir fry vegetables $'"
      ]
     },
     "execution_count": 63,
     "metadata": {},
     "output_type": "execute_result"
    }
   ],
   "source": [
    "disfluentStrs = [s for s in allStrsStartEnd if 'uh' in s.split() or 'um' in s.split()]\n",
    "disfluentStrs[100]"
   ]
  },
  {
   "cell_type": "code",
   "execution_count": 64,
   "metadata": {
    "collapsed": true
   },
   "outputs": [],
   "source": [
    "def getKtuple(s, k=2):\n",
    "    s_split = s.split(' ')\n",
    "    d = []\n",
    "    for i, token in enumerate(s_split):\n",
    "        if i == len(s_split)-k:\n",
    "            break\n",
    "        curr_tup = tuple(s_split[i:i+k])\n",
    "        d.append(curr_tup)\n",
    "    return d\n",
    "# getKtuple(uhStrs[0])"
   ]
  },
  {
   "cell_type": "code",
   "execution_count": 65,
   "metadata": {
    "collapsed": true
   },
   "outputs": [],
   "source": [
    "def getSentProbs(s, model, n):\n",
    "    d = {}\n",
    "    for tup in getKtuple(s, n):\n",
    "        d[tup] = model.get_lm_prob(tup)\n",
    "    return d\n",
    "# getSentProbs(removeUhs(uhStrs[0]), ng_no_uh, n)"
   ]
  },
  {
   "cell_type": "markdown",
   "metadata": {},
   "source": [
    "### Todo\n",
    "\n",
    "* Get all instances of find all context / targets (w/ and w/o disfluencies and get surprisal)"
   ]
  },
  {
   "cell_type": "code",
   "execution_count": 69,
   "metadata": {},
   "outputs": [],
   "source": [
    "d = []\n",
    "for s in uhStrs:\n",
    "    three_tuples = getKtuple(s, 3)\n",
    "    for i, k in enumerate(three_tuples):\n",
    "        if (k[1] == 'uh' or k[1] == 'um') and (sum([i == 'uh' or i == 'um' for i in k]) == 1):\n",
    "            disfluency = k[1]\n",
    "            before = k[0]\n",
    "            after = k[2]\n",
    "            t = (before, after)\n",
    "            non_disfluent_cnt = ng_no_disfluencies.get_cond_count(t)\n",
    "            disfluent_cnt = ng_all.get_cond_count(k)\n",
    "            if disfluent_cnt > non_disfluent_cnt:\n",
    "                pdb.set_trace()\n",
    "            lik = disfluent_cnt / non_disfluent_cnt\n",
    "            surp = np.log2(ng_no_disfluencies.get_cond_prob(t))\n",
    "            data = {\n",
    "                'before': before,\n",
    "                'after': after,\n",
    "                'lik': lik,\n",
    "                'supr': surp,\n",
    "                'total':non_disfluent_cnt,\n",
    "                'disfluency': disfluency\n",
    "            }\n",
    "            d.append(data)"
   ]
  },
  {
   "cell_type": "code",
   "execution_count": 76,
   "metadata": {},
   "outputs": [],
   "source": [
    "df = pd.DataFrame(d).drop_duplicates()\n",
    "# df.to_csv('switchboard-uh-data-20171215.csv')"
   ]
  },
  {
   "cell_type": "code",
   "execution_count": 73,
   "metadata": {},
   "outputs": [
    {
     "data": {
      "text/plain": [
       "<seaborn.axisgrid.FacetGrid at 0x1a2198a710>"
      ]
     },
     "execution_count": 73,
     "metadata": {},
     "output_type": "execute_result"
    },
    {
     "data": {
      "image/png": "[encoded data removed]",
      "text/plain": [
       "<matplotlib.figure.Figure at 0x1a21963fd0>"
      ]
     },
     "metadata": {},
     "output_type": "display_data"
    }
   ],
   "source": [
    "sns.lmplot(x='supr', y='lik', hue='disfluency', data=df[df['total']>10])"
   ]
  },
  {
   "cell_type": "markdown",
   "metadata": {},
   "source": [
    "## Experiment - brainstorm\n",
    "\n",
    "* Task: sentence completion - particiants see a sentence fragment and have to fill in the missing item from a choice of five candidates. \n",
    "    + include the \"true\" candidate?\n",
    "    + include a spectrum of high->low suprisal items\n",
    "* What if we had people incrementally build sentences from the LM candidates?\n",
    "    "
   ]
  },
  {
   "cell_type": "code",
   "execution_count": 74,
   "metadata": {
    "collapsed": true
   },
   "outputs": [],
   "source": [
    "ng = Ngram(2)\n",
    "ng.ingest(orderedTokensAll)"
   ]
  },
  {
   "cell_type": "code",
   "execution_count": 75,
   "metadata": {
    "collapsed": true
   },
   "outputs": [],
   "source": [
    "# sent = random.choice(allStrs).split(' ')\n",
    "# index = random.randint(0, len(sent))\n",
    "# sent[:index]\n",
    "exSent = 'yeah i have a uh well a mutt myself i call it a uh uh chowperd'\n",
    "exSentSplit = exSent.split(' ')\n",
    "index = random.randint(1, len(exSentSplit)-1)\n",
    "fragment = exSentSplit[:index]"
   ]
  },
  {
   "cell_type": "code",
   "execution_count": 20,
   "metadata": {},
   "outputs": [
    {
     "name": "stdout",
     "output_type": "stream",
     "text": [
      "a\n"
     ]
    }
   ],
   "source": [
    "lastToken = fragment[-1]\n",
    "print(lastToken)\n",
    "trueCandidate = exSentSplit[index]"
   ]
  },
  {
   "cell_type": "code",
   "execution_count": 21,
   "metadata": {
    "collapsed": true
   },
   "outputs": [],
   "source": [
    "lm_candidates = list(ng.get_candidates((lastToken,)).keys())\n",
    "candidates = set(random.sample(lm_candidates, min(5, len(lm_candidates)))) | {trueCandidate}"
   ]
  },
  {
   "cell_type": "code",
   "execution_count": 22,
   "metadata": {},
   "outputs": [
    {
     "name": "stdout",
     "output_type": "stream",
     "text": [
      "Full utterace:\tyeah i have a uh well a mutt myself i call it a uh uh chowperd\n",
      "Fragment:\tyeah i have a uh well a mutt myself i call it a\n",
      "Last token:\ta\n",
      "Candidates:\t{'uh', 'doctor', 'full-fledged', 'there', 'keeshonden'}\n",
      "True candidate:\tuh\n"
     ]
    }
   ],
   "source": [
    "print(\"Full utterace:\\t{}\".format(exSent))\n",
    "print('Fragment:\\t{}'.format(' '.join(fragment)))\n",
    "print('Last token:\\t{}'.format(lastToken))\n",
    "print('Candidates:\\t{}'.format(candidates))\n",
    "print('True candidate:\\t{}'.format(trueCandidate))"
   ]
  },
  {
   "cell_type": "markdown",
   "metadata": {},
   "source": [
    "## Experiment - just \"uh's\"\n",
    "\n",
    "Exploring \"Um implicature\" -- do participants display a high-surprisal bias in sentence completion task.\n",
    "\n",
    "Avoid:\n",
    "* sentence initial disfluencies\n"
   ]
  },
  {
   "cell_type": "code",
   "execution_count": 77,
   "metadata": {},
   "outputs": [
    {
     "data": {
      "text/plain": [
       "\"^ uh yeah that 's right $\""
      ]
     },
     "execution_count": 77,
     "metadata": {},
     "output_type": "execute_result"
    }
   ],
   "source": [
    "uhStrs = [s for s in allStrsStartEnd if 'uh' in s.split()]\n",
    "uhStrs_sample = random.sample(uhStrs, 10)\n",
    "uhStrs_sample[0]"
   ]
  },
  {
   "cell_type": "code",
   "execution_count": 78,
   "metadata": {
    "collapsed": true
   },
   "outputs": [],
   "source": [
    "def get_match_indices(x, s):\n",
    "    return [i for i, w in enumerate(s.split(' ')) if w == x]"
   ]
  },
  {
   "cell_type": "code",
   "execution_count": 79,
   "metadata": {},
   "outputs": [],
   "source": [
    "indices = get_match_indices('uh', uhStrs_sample[0])\n",
    "index = indices[0]"
   ]
  },
  {
   "cell_type": "code",
   "execution_count": 80,
   "metadata": {},
   "outputs": [
    {
     "data": {
      "text/plain": [
       "'^ uh'"
      ]
     },
     "execution_count": 80,
     "metadata": {},
     "output_type": "execute_result"
    }
   ],
   "source": [
    "' '.join(uhStrs_sample[0].split(' ')[0:index+1])"
   ]
  },
  {
   "cell_type": "code",
   "execution_count": 81,
   "metadata": {
    "collapsed": true
   },
   "outputs": [],
   "source": [
    "class categoricalDistr:\n",
    "    def __init__(self, vs, ps):\n",
    "        self.vs = vs\n",
    "        self.ps = ps\n",
    "        self.normed_ps = self.normalize(self.ps)\n",
    "        self.distr = dict(zip(self.vs, self.normed_ps))\n",
    "        \n",
    "    def sample(self, k=5):\n",
    "        vals = np.random.choice(a=self.vs, size=(k), p=self.normed_ps)\n",
    "        d = {}\n",
    "        for v in vals:\n",
    "            d[v] = self.distr[v]\n",
    "        return d\n",
    "    \n",
    "    def get_prob(self, x):\n",
    "        return self.distr[x]\n",
    "\n",
    "    def normalize(self, x):\n",
    "        return x / np.sum(x)"
   ]
  },
  {
   "cell_type": "code",
   "execution_count": 82,
   "metadata": {
    "collapsed": true
   },
   "outputs": [],
   "source": [
    "vs = list(ng.get_candidates(('uh',)).keys())\n",
    "ps = list(ng.get_candidates(('uh',)).values())\n",
    "C = categoricalDistr(vs, ps)"
   ]
  },
  {
   "cell_type": "code",
   "execution_count": 83,
   "metadata": {},
   "outputs": [
    {
     "data": {
      "text/plain": [
       "{'$': 0.056916996047430828,\n",
       " 'peas': 0.00079051383399209485,\n",
       " 'recently': 0.00079051383399209485,\n",
       " 'some': 0.0055335968379446642,\n",
       " 'uh': 0.039525691699604744}"
      ]
     },
     "execution_count": 83,
     "metadata": {},
     "output_type": "execute_result"
    }
   ],
   "source": [
    "C.sample()"
   ]
  },
  {
   "cell_type": "code",
   "execution_count": 84,
   "metadata": {},
   "outputs": [
    {
     "data": {
      "text/plain": [
       "0.11304347826086956"
      ]
     },
     "execution_count": 84,
     "metadata": {},
     "output_type": "execute_result"
    }
   ],
   "source": [
    "C.get_prob('i')"
   ]
  },
  {
   "cell_type": "code",
   "execution_count": 85,
   "metadata": {},
   "outputs": [
    {
     "name": "stdout",
     "output_type": "stream",
     "text": [
      "------\n",
      "Evaluate:\n",
      "\n",
      "^ -- it could just they could take off at\n",
      "Please choose one:\t['idea', 'crime', 'real', 'moment']\n"
     ]
    },
    {
     "ename": "KeyboardInterrupt",
     "evalue": "",
     "output_type": "error",
     "traceback": [
      "\u001b[0;31m---------------------------------------------------------------------------\u001b[0m",
      "\u001b[0;31mKeyboardInterrupt\u001b[0m                         Traceback (most recent call last)",
      "\u001b[0;32m/Users/benpeloquin/anaconda/lib/python3.6/site-packages/ipykernel/kernelbase.py\u001b[0m in \u001b[0;36m_input_request\u001b[0;34m(self, prompt, ident, parent, password)\u001b[0m\n\u001b[1;32m    729\u001b[0m             \u001b[0;32mtry\u001b[0m\u001b[0;34m:\u001b[0m\u001b[0;34m\u001b[0m\u001b[0m\n\u001b[0;32m--> 730\u001b[0;31m                 \u001b[0mident\u001b[0m\u001b[0;34m,\u001b[0m \u001b[0mreply\u001b[0m \u001b[0;34m=\u001b[0m \u001b[0mself\u001b[0m\u001b[0;34m.\u001b[0m\u001b[0msession\u001b[0m\u001b[0;34m.\u001b[0m\u001b[0mrecv\u001b[0m\u001b[0;34m(\u001b[0m\u001b[0mself\u001b[0m\u001b[0;34m.\u001b[0m\u001b[0mstdin_socket\u001b[0m\u001b[0;34m,\u001b[0m \u001b[0;36m0\u001b[0m\u001b[0;34m)\u001b[0m\u001b[0;34m\u001b[0m\u001b[0m\n\u001b[0m\u001b[1;32m    731\u001b[0m             \u001b[0;32mexcept\u001b[0m \u001b[0mException\u001b[0m\u001b[0;34m:\u001b[0m\u001b[0;34m\u001b[0m\u001b[0m\n",
      "\u001b[0;32m/Users/benpeloquin/anaconda/lib/python3.6/site-packages/jupyter_client/session.py\u001b[0m in \u001b[0;36mrecv\u001b[0;34m(self, socket, mode, content, copy)\u001b[0m\n\u001b[1;32m    777\u001b[0m         \u001b[0;32mtry\u001b[0m\u001b[0;34m:\u001b[0m\u001b[0;34m\u001b[0m\u001b[0m\n\u001b[0;32m--> 778\u001b[0;31m             \u001b[0mmsg_list\u001b[0m \u001b[0;34m=\u001b[0m \u001b[0msocket\u001b[0m\u001b[0;34m.\u001b[0m\u001b[0mrecv_multipart\u001b[0m\u001b[0;34m(\u001b[0m\u001b[0mmode\u001b[0m\u001b[0;34m,\u001b[0m \u001b[0mcopy\u001b[0m\u001b[0;34m=\u001b[0m\u001b[0mcopy\u001b[0m\u001b[0;34m)\u001b[0m\u001b[0;34m\u001b[0m\u001b[0m\n\u001b[0m\u001b[1;32m    779\u001b[0m         \u001b[0;32mexcept\u001b[0m \u001b[0mzmq\u001b[0m\u001b[0;34m.\u001b[0m\u001b[0mZMQError\u001b[0m \u001b[0;32mas\u001b[0m \u001b[0me\u001b[0m\u001b[0;34m:\u001b[0m\u001b[0;34m\u001b[0m\u001b[0m\n",
      "\u001b[0;32m/Users/benpeloquin/anaconda/lib/python3.6/site-packages/zmq/sugar/socket.py\u001b[0m in \u001b[0;36mrecv_multipart\u001b[0;34m(self, flags, copy, track)\u001b[0m\n\u001b[1;32m    394\u001b[0m         \"\"\"\n\u001b[0;32m--> 395\u001b[0;31m         \u001b[0mparts\u001b[0m \u001b[0;34m=\u001b[0m \u001b[0;34m[\u001b[0m\u001b[0mself\u001b[0m\u001b[0;34m.\u001b[0m\u001b[0mrecv\u001b[0m\u001b[0;34m(\u001b[0m\u001b[0mflags\u001b[0m\u001b[0;34m,\u001b[0m \u001b[0mcopy\u001b[0m\u001b[0;34m=\u001b[0m\u001b[0mcopy\u001b[0m\u001b[0;34m,\u001b[0m \u001b[0mtrack\u001b[0m\u001b[0;34m=\u001b[0m\u001b[0mtrack\u001b[0m\u001b[0;34m)\u001b[0m\u001b[0;34m]\u001b[0m\u001b[0;34m\u001b[0m\u001b[0m\n\u001b[0m\u001b[1;32m    396\u001b[0m         \u001b[0;31m# have first part already, only loop while more to receive\u001b[0m\u001b[0;34m\u001b[0m\u001b[0;34m\u001b[0m\u001b[0m\n",
      "\u001b[0;32mzmq/backend/cython/socket.pyx\u001b[0m in \u001b[0;36mzmq.backend.cython.socket.Socket.recv (zmq/backend/cython/socket.c:7683)\u001b[0;34m()\u001b[0m\n",
      "\u001b[0;32mzmq/backend/cython/socket.pyx\u001b[0m in \u001b[0;36mzmq.backend.cython.socket.Socket.recv (zmq/backend/cython/socket.c:7460)\u001b[0;34m()\u001b[0m\n",
      "\u001b[0;32mzmq/backend/cython/socket.pyx\u001b[0m in \u001b[0;36mzmq.backend.cython.socket._recv_copy (zmq/backend/cython/socket.c:2344)\u001b[0;34m()\u001b[0m\n",
      "\u001b[0;32m/Users/benpeloquin/anaconda/lib/python3.6/site-packages/zmq/backend/cython/checkrc.pxd\u001b[0m in \u001b[0;36mzmq.backend.cython.checkrc._check_rc (zmq/backend/cython/socket.c:9621)\u001b[0;34m()\u001b[0m\n",
      "\u001b[0;31mKeyboardInterrupt\u001b[0m: ",
      "\nDuring handling of the above exception, another exception occurred:\n",
      "\u001b[0;31mKeyboardInterrupt\u001b[0m                         Traceback (most recent call last)",
      "\u001b[0;32m<ipython-input-85-eec26a7a75be>\u001b[0m in \u001b[0;36m<module>\u001b[0;34m()\u001b[0m\n\u001b[1;32m     38\u001b[0m     \u001b[0;32mreturn\u001b[0m \u001b[0md\u001b[0m\u001b[0;34m\u001b[0m\u001b[0m\n\u001b[1;32m     39\u001b[0m \u001b[0;34m\u001b[0m\u001b[0m\n\u001b[0;32m---> 40\u001b[0;31m \u001b[0md\u001b[0m \u001b[0;34m=\u001b[0m \u001b[0mrunExperiment\u001b[0m\u001b[0;34m(\u001b[0m\u001b[0;36m3\u001b[0m\u001b[0;34m)\u001b[0m\u001b[0;34m\u001b[0m\u001b[0m\n\u001b[0m",
      "\u001b[0;32m<ipython-input-85-eec26a7a75be>\u001b[0m in \u001b[0;36mrunExperiment\u001b[0;34m(n_iters, num_candidates)\u001b[0m\n\u001b[1;32m     26\u001b[0m             \u001b[0mtime\u001b[0m\u001b[0;34m.\u001b[0m\u001b[0msleep\u001b[0m\u001b[0;34m(\u001b[0m\u001b[0;36m0.1\u001b[0m\u001b[0;34m)\u001b[0m\u001b[0;34m\u001b[0m\u001b[0m\n\u001b[1;32m     27\u001b[0m         \u001b[0mprint\u001b[0m\u001b[0;34m(\u001b[0m\u001b[0;34m\"\\nPlease choose one:\\t{}\"\u001b[0m\u001b[0;34m.\u001b[0m\u001b[0mformat\u001b[0m\u001b[0;34m(\u001b[0m\u001b[0mcandidate_keys\u001b[0m\u001b[0;34m)\u001b[0m\u001b[0;34m)\u001b[0m\u001b[0;34m\u001b[0m\u001b[0m\n\u001b[0;32m---> 28\u001b[0;31m         \u001b[0muser_choice\u001b[0m \u001b[0;34m=\u001b[0m \u001b[0minput\u001b[0m\u001b[0;34m(\u001b[0m\u001b[0;34m\"Choice (1, 2, 3, 4):\"\u001b[0m\u001b[0;34m)\u001b[0m\u001b[0;34m\u001b[0m\u001b[0m\n\u001b[0m\u001b[1;32m     29\u001b[0m         \u001b[0mdata\u001b[0m \u001b[0;34m=\u001b[0m \u001b[0;34m{\u001b[0m\u001b[0;34m}\u001b[0m\u001b[0;34m\u001b[0m\u001b[0m\n\u001b[1;32m     30\u001b[0m         \u001b[0;32mfor\u001b[0m \u001b[0mi\u001b[0m\u001b[0;34m,\u001b[0m \u001b[0;34m(\u001b[0m\u001b[0mk\u001b[0m\u001b[0;34m,\u001b[0m \u001b[0mv\u001b[0m\u001b[0;34m)\u001b[0m \u001b[0;32min\u001b[0m \u001b[0menumerate\u001b[0m\u001b[0;34m(\u001b[0m\u001b[0mcandidates\u001b[0m\u001b[0;34m.\u001b[0m\u001b[0mitems\u001b[0m\u001b[0;34m(\u001b[0m\u001b[0;34m)\u001b[0m\u001b[0;34m)\u001b[0m\u001b[0;34m:\u001b[0m\u001b[0;34m\u001b[0m\u001b[0m\n",
      "\u001b[0;32m/Users/benpeloquin/anaconda/lib/python3.6/site-packages/ipykernel/kernelbase.py\u001b[0m in \u001b[0;36mraw_input\u001b[0;34m(self, prompt)\u001b[0m\n\u001b[1;32m    703\u001b[0m             \u001b[0mself\u001b[0m\u001b[0;34m.\u001b[0m\u001b[0m_parent_ident\u001b[0m\u001b[0;34m,\u001b[0m\u001b[0;34m\u001b[0m\u001b[0m\n\u001b[1;32m    704\u001b[0m             \u001b[0mself\u001b[0m\u001b[0;34m.\u001b[0m\u001b[0m_parent_header\u001b[0m\u001b[0;34m,\u001b[0m\u001b[0;34m\u001b[0m\u001b[0m\n\u001b[0;32m--> 705\u001b[0;31m             \u001b[0mpassword\u001b[0m\u001b[0;34m=\u001b[0m\u001b[0;32mFalse\u001b[0m\u001b[0;34m,\u001b[0m\u001b[0;34m\u001b[0m\u001b[0m\n\u001b[0m\u001b[1;32m    706\u001b[0m         )\n\u001b[1;32m    707\u001b[0m \u001b[0;34m\u001b[0m\u001b[0m\n",
      "\u001b[0;32m/Users/benpeloquin/anaconda/lib/python3.6/site-packages/ipykernel/kernelbase.py\u001b[0m in \u001b[0;36m_input_request\u001b[0;34m(self, prompt, ident, parent, password)\u001b[0m\n\u001b[1;32m    733\u001b[0m             \u001b[0;32mexcept\u001b[0m \u001b[0mKeyboardInterrupt\u001b[0m\u001b[0;34m:\u001b[0m\u001b[0;34m\u001b[0m\u001b[0m\n\u001b[1;32m    734\u001b[0m                 \u001b[0;31m# re-raise KeyboardInterrupt, to truncate traceback\u001b[0m\u001b[0;34m\u001b[0m\u001b[0;34m\u001b[0m\u001b[0m\n\u001b[0;32m--> 735\u001b[0;31m                 \u001b[0;32mraise\u001b[0m \u001b[0mKeyboardInterrupt\u001b[0m\u001b[0;34m\u001b[0m\u001b[0m\n\u001b[0m\u001b[1;32m    736\u001b[0m             \u001b[0;32melse\u001b[0m\u001b[0;34m:\u001b[0m\u001b[0;34m\u001b[0m\u001b[0m\n\u001b[1;32m    737\u001b[0m                 \u001b[0;32mbreak\u001b[0m\u001b[0;34m\u001b[0m\u001b[0m\n",
      "\u001b[0;31mKeyboardInterrupt\u001b[0m: "
     ]
    }
   ],
   "source": [
    "def runExperiment(data, n_trials=10, n_candidates=3):\n",
    "    \"\"\"\n",
    "    Parameters\n",
    "    ----------\n",
    "    data: array of str\n",
    "        Sentences / sentence fragments.    \n",
    "    n_iters: int\n",
    "        Number of trials.\n",
    "    n_candidates: int\n",
    "        Size of comparison set.\n",
    "        \n",
    "    Returns\n",
    "    list of dicts\n",
    "        Results.\n",
    "        \n",
    "    \"\"\"\n",
    "    d = []\n",
    "    random.shuffle(data)\n",
    "    for i, sent in enumerate(data):\n",
    "        if i >= n_trials:\n",
    "            break\n",
    "        sent_split = sent.split(' ')\n",
    "        index = random.randint(1, len(sent_split)-1)\n",
    "        target = sent_split[index]\n",
    "        true_candidate = sent_split[index+1]\n",
    "        fragment = sent_split[:index]\n",
    "        fragment_str = ' '.join(fragment)\n",
    "        vs = list(ng.get_candidates((target,)).keys())\n",
    "        ps = list(ng.get_candidates((target,)).values())\n",
    "        C = categoricalDistr(vs, ps)\n",
    "        candidates = C.sample(n_candidates)\n",
    "        candidates[true_candidate] = C.get_prob(true_candidate)\n",
    "        if len(candidates) < n_candidates or len(fragment) < 3:\n",
    "            continue\n",
    "        candidate_keys = list(candidates.keys())\n",
    "        candidate_vals = list(candidates.values())\n",
    "        print('------')\n",
    "        print(\"Evaluate:\\n\")\n",
    "        for ch in fragment_str:\n",
    "            print(ch, end='')\n",
    "            time.sleep(0.1)\n",
    "        print(\"\\nPlease choose one:\\t{}\".format(candidate_keys))\n",
    "        user_choice = input(\"Choice (1, 2, 3, 4):\")\n",
    "        data = {}\n",
    "        for i, (k, v) in enumerate(candidates.items()):\n",
    "            data['candidate' + str(i) + '_key'] = k\n",
    "            data['candidate' + str(i) + '_val'] = v\n",
    "        data['frag'] = fragment_str\n",
    "        data['true_candidate_key'] = true_candidate\n",
    "        data['true_candidate_val'] = candidates[true_candidate]\n",
    "        data['choice'] = user_choice\n",
    "        d.append(data)\n",
    "    return d\n",
    "    \n",
    "d = runExperiment(3)"
   ]
  },
  {
   "cell_type": "code",
   "execution_count": 32,
   "metadata": {
    "collapsed": true
   },
   "outputs": [],
   "source": [
    "df = pd.DataFrame(d)"
   ]
  },
  {
   "cell_type": "code",
   "execution_count": 33,
   "metadata": {
    "collapsed": true
   },
   "outputs": [],
   "source": [
    "df['correct'] = df['choice'] == df['true_candidate_key']"
   ]
  },
  {
   "cell_type": "code",
   "execution_count": 34,
   "metadata": {},
   "outputs": [
    {
     "data": {
      "text/plain": [
       "1"
      ]
     },
     "execution_count": 34,
     "metadata": {},
     "output_type": "execute_result"
    }
   ],
   "source": [
    "sum(df['correct'])"
   ]
  },
  {
   "cell_type": "code",
   "execution_count": 35,
   "metadata": {},
   "outputs": [
    {
     "data": {
      "text/html": [
       "<div>\n",
       "<style scoped>\n",
       "    .dataframe tbody tr th:only-of-type {\n",
       "        vertical-align: middle;\n",
       "    }\n",
       "\n",
       "    .dataframe tbody tr th {\n",
       "        vertical-align: top;\n",
       "    }\n",
       "\n",
       "    .dataframe thead th {\n",
       "        text-align: right;\n",
       "    }\n",
       "</style>\n",
       "<table border=\"1\" class=\"dataframe\">\n",
       "  <thead>\n",
       "    <tr style=\"text-align: right;\">\n",
       "      <th></th>\n",
       "      <th>candidate0_key</th>\n",
       "      <th>candidate0_val</th>\n",
       "      <th>candidate1_key</th>\n",
       "      <th>candidate1_val</th>\n",
       "      <th>candidate2_key</th>\n",
       "      <th>candidate2_val</th>\n",
       "      <th>candidate3_key</th>\n",
       "      <th>candidate3_val</th>\n",
       "      <th>choice</th>\n",
       "      <th>frag</th>\n",
       "      <th>true_candidate_key</th>\n",
       "      <th>true_candidate_val</th>\n",
       "      <th>correct</th>\n",
       "    </tr>\n",
       "  </thead>\n",
       "  <tbody>\n",
       "    <tr>\n",
       "      <th>0</th>\n",
       "      <td>spring</td>\n",
       "      <td>0.015385</td>\n",
       "      <td>work</td>\n",
       "      <td>0.030769</td>\n",
       "      <td>we</td>\n",
       "      <td>0.015385</td>\n",
       "      <td>you</td>\n",
       "      <td>0.015385</td>\n",
       "      <td>we</td>\n",
       "      <td>^ adjusting it back to to the days you know wh...</td>\n",
       "      <td>you</td>\n",
       "      <td>0.015385</td>\n",
       "      <td>False</td>\n",
       "    </tr>\n",
       "    <tr>\n",
       "      <th>1</th>\n",
       "      <td>and</td>\n",
       "      <td>0.083333</td>\n",
       "      <td>years</td>\n",
       "      <td>0.250000</td>\n",
       "      <td>bucks</td>\n",
       "      <td>0.083333</td>\n",
       "      <td>NaN</td>\n",
       "      <td>NaN</td>\n",
       "      <td>years</td>\n",
       "      <td>^ very much um so what i 've tried to do uh no...</td>\n",
       "      <td>years</td>\n",
       "      <td>0.250000</td>\n",
       "      <td>True</td>\n",
       "    </tr>\n",
       "  </tbody>\n",
       "</table>\n",
       "</div>"
      ],
      "text/plain": [
       "  candidate0_key  candidate0_val candidate1_key  candidate1_val  \\\n",
       "0         spring        0.015385           work        0.030769   \n",
       "1            and        0.083333          years        0.250000   \n",
       "\n",
       "  candidate2_key  candidate2_val candidate3_key  candidate3_val choice  \\\n",
       "0             we        0.015385            you        0.015385     we   \n",
       "1          bucks        0.083333            NaN             NaN  years   \n",
       "\n",
       "                                                frag true_candidate_key  \\\n",
       "0  ^ adjusting it back to to the days you know wh...                you   \n",
       "1  ^ very much um so what i 've tried to do uh no...              years   \n",
       "\n",
       "   true_candidate_val  correct  \n",
       "0            0.015385    False  \n",
       "1            0.250000     True  "
      ]
     },
     "execution_count": 35,
     "metadata": {},
     "output_type": "execute_result"
    }
   ],
   "source": [
    "df.head()"
   ]
  },
  {
   "cell_type": "code",
   "execution_count": null,
   "metadata": {
    "collapsed": true
   },
   "outputs": [],
   "source": []
  }
 ],
 "metadata": {
  "kernelspec": {
   "display_name": "Python 3",
   "language": "python",
   "name": "python3"
  },
  "language_info": {
   "codemirror_mode": {
    "name": "ipython",
    "version": 3
   },
   "file_extension": ".py",
   "mimetype": "text/x-python",
   "name": "python",
   "nbconvert_exporter": "python",
   "pygments_lexer": "ipython3",
   "version": "3.6.1"
  }
 },
 "nbformat": 4,
 "nbformat_minor": 2
}
