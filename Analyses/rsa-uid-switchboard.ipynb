{
 "cells": [
  {
   "cell_type": "markdown",
   "metadata": {},
   "source": [
    "# RSA-UID-switchbaord\n",
    "\n",
    "Investigating (possibly) meaningful disfluencies in switchboard\n",
    "\n",
    "### Objectives\n",
    "1. analysis: do disfluencies appear before high-surprisal items?\n",
    "2. listener exp: are listeners inclined to choose high-surprisal items as good candidates when they see 'uh'\n",
    "\n",
    "### Resources\n",
    "* Switchboard http://www.nltk.org/_modules/nltk/corpus/reader/switchboard.html\n",
    "* typing animation https://codepen.io/rusjames/pen/uAFhE"
   ]
  },
  {
   "cell_type": "code",
   "execution_count": 169,
   "metadata": {
    "collapsed": true
   },
   "outputs": [],
   "source": [
    "from collections import Counter, defaultdict\n",
    "import matplotlib.pyplot as plt\n",
    "from nltk.corpus import switchboard as sb\n",
    "import numpy as np\n",
    "import pandas as pd\n",
    "import pdb\n",
    "import random\n",
    "import re\n",
    "import seaborn as sns\n",
    "\n",
    "%matplotlib inline  "
   ]
  },
  {
   "cell_type": "markdown",
   "metadata": {},
   "source": [
    "Example discourse..."
   ]
  },
  {
   "cell_type": "code",
   "execution_count": 2,
   "metadata": {
    "collapsed": true
   },
   "outputs": [],
   "source": [
    "discourses = [d for d in sb.discourses()]"
   ]
  },
  {
   "cell_type": "code",
   "execution_count": 3,
   "metadata": {},
   "outputs": [
    {
     "data": {
      "text/plain": [
       "[<A.1: 'Uh , do you have a pet Randy ?'>,\n",
       " <B.2: 'Uh , yeah , currently we have a poodle .'>,\n",
       " <A.3: 'A poodle , miniature or , uh , full size ?'>,\n",
       " <B.4: \"Yeah , uh , it 's , uh miniature .\">,\n",
       " <A.5: 'Uh-huh .'>]"
      ]
     },
     "execution_count": 3,
     "metadata": {},
     "output_type": "execute_result"
    }
   ],
   "source": [
    "discourses[0][:5]"
   ]
  },
  {
   "cell_type": "markdown",
   "metadata": {},
   "source": [
    "### Preprocessing helpers"
   ]
  },
  {
   "cell_type": "code",
   "execution_count": 4,
   "metadata": {
    "collapsed": true
   },
   "outputs": [],
   "source": [
    "def replace_start(s):\n",
    "    start_patt = r\"^<[AB]\\.[0-9]{1,}:\\s[\\'\\\"]\"\n",
    "    replace_patt = ''\n",
    "    s = re.sub(start_patt, replace_patt, s)\n",
    "    return s\n",
    "\n",
    "def replace_end(s):\n",
    "    end_patt = r\"\\s?\\'?>\"\n",
    "    replace_patt = ''\n",
    "    s = re.sub(end_patt, replace_patt, s)\n",
    "    return s\n",
    "\n",
    "def remove_punct(s):\n",
    "    s = re.sub('[,\\.\\?:\\{\\}\\[\\]]', '', s)\n",
    "    return s\n",
    "\n",
    "def turn2Str(t):\n",
    "    unicodeStr = t.unicode_repr()\n",
    "    s = preprocess_turn_str(unicodeStr)\n",
    "    return s\n",
    "\n",
    "def preprocess_turn_str(s):\n",
    "    s = replace_start(s)\n",
    "    s = replace_end(s)\n",
    "    s = remove_punct(s)\n",
    "    s = s.lower()\n",
    "    s = re.sub('\\s{2,}', ' ', s)\n",
    "    s = re.sub(r'\"$', '', s)\n",
    "    s = s.rstrip()\n",
    "    return s"
   ]
  },
  {
   "cell_type": "markdown",
   "metadata": {},
   "source": [
    "check..."
   ]
  },
  {
   "cell_type": "code",
   "execution_count": 5,
   "metadata": {},
   "outputs": [
    {
     "name": "stdout",
     "output_type": "stream",
     "text": [
      "<A.3: 'A poodle , miniature or , uh , full size ?'>\n"
     ]
    },
    {
     "data": {
      "text/plain": [
       "'a poodle miniature or uh full size'"
      ]
     },
     "execution_count": 5,
     "metadata": {},
     "output_type": "execute_result"
    }
   ],
   "source": [
    "exTurn = discourses[0][2]\n",
    "print(str(exTurn))\n",
    "turn2Str(exTurn)"
   ]
  },
  {
   "cell_type": "markdown",
   "metadata": {},
   "source": [
    "## Data"
   ]
  },
  {
   "cell_type": "code",
   "execution_count": 30,
   "metadata": {},
   "outputs": [
    {
     "data": {
      "text/plain": [
       "'a poodle miniature or full size'"
      ]
     },
     "execution_count": 30,
     "metadata": {},
     "output_type": "execute_result"
    }
   ],
   "source": [
    "def removeUhs(s):\n",
    "    uh_patt = r'\\suh\\s'\n",
    "    return re.sub(uh_patt, ' ', s)\n",
    "# removeUhs('a poodle miniature or uh full size')"
   ]
  },
  {
   "cell_type": "code",
   "execution_count": 31,
   "metadata": {
    "collapsed": true
   },
   "outputs": [],
   "source": [
    "allStrs = [turn2Str(t) for d in discourses for t in d]\n",
    "allStrsStartEnd = ['^ ' + s + ' $' for s in allStrs]\n",
    "allStrsNoUhs = [removeUhs(s) for s in allStrsStartEnd]\n",
    "orderedTokensAll = ' '.join(allStrsStartEnd).split(' ')\n",
    "orderedTokensNoUhs = ' '.join(allStrsNoUhs).split(' ')"
   ]
  },
  {
   "cell_type": "markdown",
   "metadata": {},
   "source": [
    "### LM"
   ]
  },
  {
   "cell_type": "code",
   "execution_count": 118,
   "metadata": {
    "collapsed": true
   },
   "outputs": [],
   "source": [
    "class Ngram:\n",
    "    def __init__(self, n=2):\n",
    "        self.n = n\n",
    "        self.vocab_size = 0\n",
    "        \n",
    "    def ingest(self, orderedTokens):\n",
    "        self.vocab_size = len(orderedTokens)\n",
    "        d = defaultdict(Counter)\n",
    "        for i, word in enumerate(orderedTokens):\n",
    "            if i == len(orderedTokens)-self.n:\n",
    "                break\n",
    "            currTup = tuple(orderedTokens[i:i+self.n-1])\n",
    "            d[currTup][orderedTokens[i+self.n-1]] += 1\n",
    "        self.lm = d\n",
    "        \n",
    "    def get_lm(self):\n",
    "        return self.lm\n",
    "    \n",
    "    def get_candidates(self, token):\n",
    "        return self.lm[token]\n",
    "    \n",
    "    def get_cond_prob(self, tup):\n",
    "        context = tup[0:self.n-1]\n",
    "        target = tup[self.n-1]\n",
    "        num = self.lm[context][target]\n",
    "        denom = np.sum([d[1] for d in self.lm[context].items()])\n",
    "        return num / denom if denom != 0 else 0.0\n",
    "    \n",
    "    def get_cond_count(self, tup):\n",
    "        context = tup[0:self.n-1]\n",
    "        target = tup[self.n-1]\n",
    "        num = self.lm[context][target]\n",
    "        return num      \n",
    "        "
   ]
  },
  {
   "cell_type": "markdown",
   "metadata": {},
   "source": [
    "check..."
   ]
  },
  {
   "cell_type": "code",
   "execution_count": 117,
   "metadata": {},
   "outputs": [
    {
     "data": {
      "text/plain": [
       "1"
      ]
     },
     "execution_count": 117,
     "metadata": {},
     "output_type": "execute_result"
    }
   ],
   "source": [
    "ng2 = Ngram(n=2)\n",
    "ng3 = Ngram(n=3)\n",
    "exCorpus = ['apple', 'on', 'the', 'apple', 'on', 'a', 'range', 'apple']\n",
    "ng2.ingest(exCorpus)\n",
    "ng3.ingest(exCorpus)\n",
    "ng2.get_cond_count(('on', 'apple'))\n",
    "ng3.get_cond_count(('on', 'the', 'apple'))"
   ]
  },
  {
   "cell_type": "markdown",
   "metadata": {},
   "source": [
    "## Reproducing Levy & Jaeger (2007) that-omission analysis (section 4)"
   ]
  },
  {
   "cell_type": "markdown",
   "metadata": {
    "collapsed": true
   },
   "source": [
    "**Objective**:\n",
    "What is the relationship between `uh/um` presence and the informativity of the following text?\n",
    "* H_0: there is no relationship\n",
    "* H_1: presence of `uh/um` indicates the following content is high-surprisal."
   ]
  },
  {
   "cell_type": "code",
   "execution_count": 209,
   "metadata": {},
   "outputs": [],
   "source": [
    "ng_all = Ngram(n=3)\n",
    "ng_all.ingest(orderedTokensAll)\n",
    "ng_no_uh = Ngram(n=2)\n",
    "ng_no_uh.ingest(orderedTokensNoUhs)"
   ]
  },
  {
   "cell_type": "code",
   "execution_count": 210,
   "metadata": {},
   "outputs": [
    {
     "data": {
      "text/plain": [
       "'^ uh do you have a pet randy $'"
      ]
     },
     "execution_count": 210,
     "metadata": {},
     "output_type": "execute_result"
    }
   ],
   "source": [
    "uhStrs = [s for s in allStrsStartEnd if 'uh' in s.split()]\n",
    "uhStrs[0]"
   ]
  },
  {
   "cell_type": "code",
   "execution_count": 211,
   "metadata": {},
   "outputs": [],
   "source": [
    "def getKtuple(s, k=2):\n",
    "    s_split = s.split(' ')\n",
    "    d = []\n",
    "    for i, token in enumerate(s_split):\n",
    "        if i == len(s_split)-k:\n",
    "            break\n",
    "        curr_tup = tuple(s_split[i:i+k])\n",
    "        d.append(curr_tup)\n",
    "    return d\n",
    "\n",
    "# getKtuple(uhStrs[0])"
   ]
  },
  {
   "cell_type": "code",
   "execution_count": 212,
   "metadata": {},
   "outputs": [],
   "source": [
    "def getSentProbs(s, model, n):\n",
    "    d = {}\n",
    "    for tup in getKtuple(s, n):\n",
    "        d[tup] = model.get_lm_prob(tup)\n",
    "    return d\n",
    "\n",
    "# getSentProbs(removeUhs(uhStrs[0]), ng_no_uh, n)"
   ]
  },
  {
   "cell_type": "markdown",
   "metadata": {},
   "source": [
    "### Todo\n",
    "\n",
    "* Get all instances of find all context / targets (w/ and w/o disfluencies and get surprisal)"
   ]
  },
  {
   "cell_type": "code",
   "execution_count": 213,
   "metadata": {},
   "outputs": [],
   "source": [
    "d = []\n",
    "for s in uhStrs:\n",
    "    three_tuples = getKtuple(s, 3)\n",
    "    for i, k in enumerate(three_tuples):\n",
    "        if k[1] == 'uh' and sum([i == 'uh' for i in k]) == 1:\n",
    "            before = k[0]\n",
    "            after = k[2]\n",
    "            t = (before, after)\n",
    "            non_uh_cnt = ng_no_uh.get_cond_count(t)\n",
    "            uh_cnt = ng_all.get_cond_count(k)\n",
    "            if uh_cnt > non_uh_cnt:\n",
    "                pdb.set_trace()\n",
    "            lik = uh_cnt / non_uh_cnt\n",
    "            surp = np.log2(ng_no_uh.get_cond_prob(t))\n",
    "            data = {\n",
    "                'before': before,\n",
    "                'after': after,\n",
    "                'lik': lik,\n",
    "                'supr': surp,\n",
    "                'total':non_uh_cnt\n",
    "            }\n",
    "            d.append(data)"
   ]
  },
  {
   "cell_type": "code",
   "execution_count": 214,
   "metadata": {},
   "outputs": [],
   "source": [
    "df = pd.DataFrame(d).drop_duplicates()\n",
    "# df.to_csv('switchboard-uh-data-20171214.csv')"
   ]
  },
  {
   "cell_type": "code",
   "execution_count": 215,
   "metadata": {},
   "outputs": [
    {
     "data": {
      "text/html": [
       "<div>\n",
       "<style scoped>\n",
       "    .dataframe tbody tr th:only-of-type {\n",
       "        vertical-align: middle;\n",
       "    }\n",
       "\n",
       "    .dataframe tbody tr th {\n",
       "        vertical-align: top;\n",
       "    }\n",
       "\n",
       "    .dataframe thead th {\n",
       "        text-align: right;\n",
       "    }\n",
       "</style>\n",
       "<table border=\"1\" class=\"dataframe\">\n",
       "  <thead>\n",
       "    <tr style=\"text-align: right;\">\n",
       "      <th></th>\n",
       "      <th>after</th>\n",
       "      <th>before</th>\n",
       "      <th>lik</th>\n",
       "      <th>supr</th>\n",
       "      <th>total</th>\n",
       "    </tr>\n",
       "  </thead>\n",
       "  <tbody>\n",
       "    <tr>\n",
       "      <th>0</th>\n",
       "      <td>do</td>\n",
       "      <td>^</td>\n",
       "      <td>0.047619</td>\n",
       "      <td>-7.980276</td>\n",
       "      <td>21</td>\n",
       "    </tr>\n",
       "    <tr>\n",
       "      <th>1</th>\n",
       "      <td>yeah</td>\n",
       "      <td>^</td>\n",
       "      <td>0.016477</td>\n",
       "      <td>-2.748712</td>\n",
       "      <td>789</td>\n",
       "    </tr>\n",
       "    <tr>\n",
       "      <th>2</th>\n",
       "      <td>full</td>\n",
       "      <td>or</td>\n",
       "      <td>1.000000</td>\n",
       "      <td>-8.370687</td>\n",
       "      <td>1</td>\n",
       "    </tr>\n",
       "    <tr>\n",
       "      <th>3</th>\n",
       "      <td>it</td>\n",
       "      <td>yeah</td>\n",
       "      <td>0.076923</td>\n",
       "      <td>-4.723026</td>\n",
       "      <td>39</td>\n",
       "    </tr>\n",
       "    <tr>\n",
       "      <th>4</th>\n",
       "      <td>miniature</td>\n",
       "      <td>'s</td>\n",
       "      <td>1.000000</td>\n",
       "      <td>-10.342075</td>\n",
       "      <td>1</td>\n",
       "    </tr>\n",
       "    <tr>\n",
       "      <th>5</th>\n",
       "      <td>around</td>\n",
       "      <td>dogs</td>\n",
       "      <td>1.000000</td>\n",
       "      <td>-2.000000</td>\n",
       "      <td>1</td>\n",
       "    </tr>\n",
       "    <tr>\n",
       "      <th>6</th>\n",
       "      <td>i</td>\n",
       "      <td>n't</td>\n",
       "      <td>0.076923</td>\n",
       "      <td>-4.917946</td>\n",
       "      <td>26</td>\n",
       "    </tr>\n",
       "    <tr>\n",
       "      <th>7</th>\n",
       "      <td>i</td>\n",
       "      <td>dog</td>\n",
       "      <td>0.333333</td>\n",
       "      <td>-2.115477</td>\n",
       "      <td>3</td>\n",
       "    </tr>\n",
       "    <tr>\n",
       "      <th>8</th>\n",
       "      <td>it</td>\n",
       "      <td>but</td>\n",
       "      <td>0.083333</td>\n",
       "      <td>-3.502500</td>\n",
       "      <td>48</td>\n",
       "    </tr>\n",
       "    <tr>\n",
       "      <th>9</th>\n",
       "      <td>definitely</td>\n",
       "      <td>it</td>\n",
       "      <td>1.000000</td>\n",
       "      <td>-10.705632</td>\n",
       "      <td>1</td>\n",
       "    </tr>\n",
       "    <tr>\n",
       "      <th>10</th>\n",
       "      <td>to</td>\n",
       "      <td>to</td>\n",
       "      <td>0.125000</td>\n",
       "      <td>-5.933691</td>\n",
       "      <td>24</td>\n",
       "    </tr>\n",
       "    <tr>\n",
       "      <th>11</th>\n",
       "      <td>it</td>\n",
       "      <td>and</td>\n",
       "      <td>0.058252</td>\n",
       "      <td>-4.392984</td>\n",
       "      <td>103</td>\n",
       "    </tr>\n",
       "    <tr>\n",
       "      <th>12</th>\n",
       "      <td>respond</td>\n",
       "      <td>to</td>\n",
       "      <td>1.000000</td>\n",
       "      <td>-10.518653</td>\n",
       "      <td>1</td>\n",
       "    </tr>\n",
       "    <tr>\n",
       "      <th>13</th>\n",
       "      <td>just</td>\n",
       "      <td>things</td>\n",
       "      <td>1.000000</td>\n",
       "      <td>-7.321928</td>\n",
       "      <td>1</td>\n",
       "    </tr>\n",
       "    <tr>\n",
       "      <th>14</th>\n",
       "      <td>teaching</td>\n",
       "      <td>by</td>\n",
       "      <td>1.000000</td>\n",
       "      <td>-5.954196</td>\n",
       "      <td>1</td>\n",
       "    </tr>\n",
       "    <tr>\n",
       "      <th>15</th>\n",
       "      <td>is</td>\n",
       "      <td>well</td>\n",
       "      <td>0.500000</td>\n",
       "      <td>-7.717676</td>\n",
       "      <td>2</td>\n",
       "    </tr>\n",
       "    <tr>\n",
       "      <th>16</th>\n",
       "      <td>well</td>\n",
       "      <td>a</td>\n",
       "      <td>0.200000</td>\n",
       "      <td>-8.324631</td>\n",
       "      <td>5</td>\n",
       "    </tr>\n",
       "    <tr>\n",
       "      <th>17</th>\n",
       "      <td>part</td>\n",
       "      <td>'s</td>\n",
       "      <td>1.000000</td>\n",
       "      <td>-10.342075</td>\n",
       "      <td>1</td>\n",
       "    </tr>\n",
       "    <tr>\n",
       "      <th>18</th>\n",
       "      <td>both</td>\n",
       "      <td>it</td>\n",
       "      <td>1.000000</td>\n",
       "      <td>-10.705632</td>\n",
       "      <td>1</td>\n",
       "    </tr>\n",
       "    <tr>\n",
       "      <th>19</th>\n",
       "      <td>she</td>\n",
       "      <td>but</td>\n",
       "      <td>0.444444</td>\n",
       "      <td>-5.917538</td>\n",
       "      <td>9</td>\n",
       "    </tr>\n",
       "    <tr>\n",
       "      <th>20</th>\n",
       "      <td>was</td>\n",
       "      <td>only</td>\n",
       "      <td>1.000000</td>\n",
       "      <td>-5.727920</td>\n",
       "      <td>1</td>\n",
       "    </tr>\n",
       "    <tr>\n",
       "      <th>21</th>\n",
       "      <td>next</td>\n",
       "      <td>but</td>\n",
       "      <td>1.000000</td>\n",
       "      <td>-9.087463</td>\n",
       "      <td>1</td>\n",
       "    </tr>\n",
       "    <tr>\n",
       "      <th>22</th>\n",
       "      <td>found</td>\n",
       "      <td>she</td>\n",
       "      <td>1.000000</td>\n",
       "      <td>-7.491853</td>\n",
       "      <td>1</td>\n",
       "    </tr>\n",
       "    <tr>\n",
       "      <th>23</th>\n",
       "      <td>i</td>\n",
       "      <td>and</td>\n",
       "      <td>0.058621</td>\n",
       "      <td>-2.899576</td>\n",
       "      <td>290</td>\n",
       "    </tr>\n",
       "    <tr>\n",
       "      <th>24</th>\n",
       "      <td>an</td>\n",
       "      <td>'m</td>\n",
       "      <td>0.333333</td>\n",
       "      <td>-6.579944</td>\n",
       "      <td>3</td>\n",
       "    </tr>\n",
       "    <tr>\n",
       "      <th>26</th>\n",
       "      <td>we</td>\n",
       "      <td>do</td>\n",
       "      <td>0.500000</td>\n",
       "      <td>-8.667112</td>\n",
       "      <td>2</td>\n",
       "    </tr>\n",
       "    <tr>\n",
       "      <th>27</th>\n",
       "      <td>just</td>\n",
       "      <td>we</td>\n",
       "      <td>0.066667</td>\n",
       "      <td>-5.336283</td>\n",
       "      <td>15</td>\n",
       "    </tr>\n",
       "    <tr>\n",
       "      <th>28</th>\n",
       "      <td>in</td>\n",
       "      <td>now</td>\n",
       "      <td>1.000000</td>\n",
       "      <td>-7.055282</td>\n",
       "      <td>1</td>\n",
       "    </tr>\n",
       "    <tr>\n",
       "      <th>30</th>\n",
       "      <td>got</td>\n",
       "      <td>got</td>\n",
       "      <td>1.000000</td>\n",
       "      <td>-7.366322</td>\n",
       "      <td>1</td>\n",
       "    </tr>\n",
       "    <tr>\n",
       "      <th>31</th>\n",
       "      <td>she</td>\n",
       "      <td>^</td>\n",
       "      <td>0.125000</td>\n",
       "      <td>-8.372593</td>\n",
       "      <td>16</td>\n",
       "    </tr>\n",
       "    <tr>\n",
       "      <th>...</th>\n",
       "      <td>...</td>\n",
       "      <td>...</td>\n",
       "      <td>...</td>\n",
       "      <td>...</td>\n",
       "      <td>...</td>\n",
       "    </tr>\n",
       "    <tr>\n",
       "      <th>1058</th>\n",
       "      <td>such</td>\n",
       "      <td>have</td>\n",
       "      <td>0.125000</td>\n",
       "      <td>-6.283088</td>\n",
       "      <td>8</td>\n",
       "    </tr>\n",
       "    <tr>\n",
       "      <th>1059</th>\n",
       "      <td>a</td>\n",
       "      <td>such</td>\n",
       "      <td>0.083333</td>\n",
       "      <td>-0.938599</td>\n",
       "      <td>12</td>\n",
       "    </tr>\n",
       "    <tr>\n",
       "      <th>1061</th>\n",
       "      <td>extraordinary</td>\n",
       "      <td>^</td>\n",
       "      <td>1.000000</td>\n",
       "      <td>-12.372593</td>\n",
       "      <td>1</td>\n",
       "    </tr>\n",
       "    <tr>\n",
       "      <th>1062</th>\n",
       "      <td>the</td>\n",
       "      <td>know</td>\n",
       "      <td>0.021277</td>\n",
       "      <td>-4.561755</td>\n",
       "      <td>47</td>\n",
       "    </tr>\n",
       "    <tr>\n",
       "      <th>1064</th>\n",
       "      <td>people</td>\n",
       "      <td>^</td>\n",
       "      <td>1.000000</td>\n",
       "      <td>-12.372593</td>\n",
       "      <td>1</td>\n",
       "    </tr>\n",
       "    <tr>\n",
       "      <th>1065</th>\n",
       "      <td>unto</td>\n",
       "      <td>more</td>\n",
       "      <td>1.000000</td>\n",
       "      <td>-7.076816</td>\n",
       "      <td>1</td>\n",
       "    </tr>\n",
       "    <tr>\n",
       "      <th>1067</th>\n",
       "      <td>well</td>\n",
       "      <td>only</td>\n",
       "      <td>1.000000</td>\n",
       "      <td>-5.727920</td>\n",
       "      <td>1</td>\n",
       "    </tr>\n",
       "    <tr>\n",
       "      <th>1068</th>\n",
       "      <td>just</td>\n",
       "      <td>dallas</td>\n",
       "      <td>1.000000</td>\n",
       "      <td>-3.700440</td>\n",
       "      <td>1</td>\n",
       "    </tr>\n",
       "    <tr>\n",
       "      <th>1069</th>\n",
       "      <td>in</td>\n",
       "      <td>that</td>\n",
       "      <td>0.142857</td>\n",
       "      <td>-8.030273</td>\n",
       "      <td>7</td>\n",
       "    </tr>\n",
       "    <tr>\n",
       "      <th>1070</th>\n",
       "      <td>no</td>\n",
       "      <td>said</td>\n",
       "      <td>1.000000</td>\n",
       "      <td>-6.228819</td>\n",
       "      <td>1</td>\n",
       "    </tr>\n",
       "    <tr>\n",
       "      <th>1071</th>\n",
       "      <td>being</td>\n",
       "      <td>know</td>\n",
       "      <td>0.250000</td>\n",
       "      <td>-8.116344</td>\n",
       "      <td>4</td>\n",
       "    </tr>\n",
       "    <tr>\n",
       "      <th>1072</th>\n",
       "      <td>an</td>\n",
       "      <td>being</td>\n",
       "      <td>1.000000</td>\n",
       "      <td>-5.727920</td>\n",
       "      <td>1</td>\n",
       "    </tr>\n",
       "    <tr>\n",
       "      <th>1073</th>\n",
       "      <td>young</td>\n",
       "      <td>especially</td>\n",
       "      <td>1.000000</td>\n",
       "      <td>-4.247928</td>\n",
       "      <td>1</td>\n",
       "    </tr>\n",
       "    <tr>\n",
       "      <th>1074</th>\n",
       "      <td>to</td>\n",
       "      <td>know</td>\n",
       "      <td>0.100000</td>\n",
       "      <td>-6.794416</td>\n",
       "      <td>10</td>\n",
       "    </tr>\n",
       "    <tr>\n",
       "      <th>1075</th>\n",
       "      <td>foreign</td>\n",
       "      <td>see</td>\n",
       "      <td>1.000000</td>\n",
       "      <td>-6.977280</td>\n",
       "      <td>1</td>\n",
       "    </tr>\n",
       "    <tr>\n",
       "      <th>1076</th>\n",
       "      <td>have</td>\n",
       "      <td>even</td>\n",
       "      <td>0.250000</td>\n",
       "      <td>-4.442943</td>\n",
       "      <td>4</td>\n",
       "    </tr>\n",
       "    <tr>\n",
       "      <th>1078</th>\n",
       "      <td>the</td>\n",
       "      <td>basic</td>\n",
       "      <td>1.000000</td>\n",
       "      <td>-2.584963</td>\n",
       "      <td>1</td>\n",
       "    </tr>\n",
       "    <tr>\n",
       "      <th>1079</th>\n",
       "      <td>youngsters</td>\n",
       "      <td>your</td>\n",
       "      <td>1.000000</td>\n",
       "      <td>-7.108524</td>\n",
       "      <td>1</td>\n",
       "    </tr>\n",
       "    <tr>\n",
       "      <th>1080</th>\n",
       "      <td>murphy</td>\n",
       "      <td>^</td>\n",
       "      <td>1.000000</td>\n",
       "      <td>-12.372593</td>\n",
       "      <td>1</td>\n",
       "    </tr>\n",
       "    <tr>\n",
       "      <th>1081</th>\n",
       "      <td>designing</td>\n",
       "      <td>brown</td>\n",
       "      <td>1.000000</td>\n",
       "      <td>-2.807355</td>\n",
       "      <td>1</td>\n",
       "    </tr>\n",
       "    <tr>\n",
       "      <th>1082</th>\n",
       "      <td>well</td>\n",
       "      <td>the</td>\n",
       "      <td>1.000000</td>\n",
       "      <td>-10.880349</td>\n",
       "      <td>1</td>\n",
       "    </tr>\n",
       "    <tr>\n",
       "      <th>1084</th>\n",
       "      <td>the</td>\n",
       "      <td>was</td>\n",
       "      <td>0.052632</td>\n",
       "      <td>-4.785495</td>\n",
       "      <td>19</td>\n",
       "    </tr>\n",
       "    <tr>\n",
       "      <th>1086</th>\n",
       "      <td>sherman</td>\n",
       "      <td>^</td>\n",
       "      <td>0.500000</td>\n",
       "      <td>-11.372593</td>\n",
       "      <td>2</td>\n",
       "    </tr>\n",
       "    <tr>\n",
       "      <th>1087</th>\n",
       "      <td>actually</td>\n",
       "      <td>^</td>\n",
       "      <td>0.200000</td>\n",
       "      <td>-10.050665</td>\n",
       "      <td>5</td>\n",
       "    </tr>\n",
       "    <tr>\n",
       "      <th>1088</th>\n",
       "      <td>um</td>\n",
       "      <td>and</td>\n",
       "      <td>0.035714</td>\n",
       "      <td>-6.272130</td>\n",
       "      <td>28</td>\n",
       "    </tr>\n",
       "    <tr>\n",
       "      <th>1089</th>\n",
       "      <td>huh</td>\n",
       "      <td>watch</td>\n",
       "      <td>1.000000</td>\n",
       "      <td>-4.584963</td>\n",
       "      <td>1</td>\n",
       "    </tr>\n",
       "    <tr>\n",
       "      <th>1090</th>\n",
       "      <td>her</td>\n",
       "      <td>and</td>\n",
       "      <td>0.500000</td>\n",
       "      <td>-10.079485</td>\n",
       "      <td>2</td>\n",
       "    </tr>\n",
       "    <tr>\n",
       "      <th>1091</th>\n",
       "      <td>what</td>\n",
       "      <td>on</td>\n",
       "      <td>0.250000</td>\n",
       "      <td>-6.409391</td>\n",
       "      <td>4</td>\n",
       "    </tr>\n",
       "    <tr>\n",
       "      <th>1094</th>\n",
       "      <td>m</td>\n",
       "      <td>watch</td>\n",
       "      <td>1.000000</td>\n",
       "      <td>-4.584963</td>\n",
       "      <td>1</td>\n",
       "    </tr>\n",
       "    <tr>\n",
       "      <th>1095</th>\n",
       "      <td>to</td>\n",
       "      <td>somebody</td>\n",
       "      <td>0.250000</td>\n",
       "      <td>-3.459432</td>\n",
       "      <td>4</td>\n",
       "    </tr>\n",
       "  </tbody>\n",
       "</table>\n",
       "<p>821 rows × 5 columns</p>\n",
       "</div>"
      ],
      "text/plain": [
       "              after      before       lik       supr  total\n",
       "0                do           ^  0.047619  -7.980276     21\n",
       "1              yeah           ^  0.016477  -2.748712    789\n",
       "2              full          or  1.000000  -8.370687      1\n",
       "3                it        yeah  0.076923  -4.723026     39\n",
       "4         miniature          's  1.000000 -10.342075      1\n",
       "5            around        dogs  1.000000  -2.000000      1\n",
       "6                 i         n't  0.076923  -4.917946     26\n",
       "7                 i         dog  0.333333  -2.115477      3\n",
       "8                it         but  0.083333  -3.502500     48\n",
       "9        definitely          it  1.000000 -10.705632      1\n",
       "10               to          to  0.125000  -5.933691     24\n",
       "11               it         and  0.058252  -4.392984    103\n",
       "12          respond          to  1.000000 -10.518653      1\n",
       "13             just      things  1.000000  -7.321928      1\n",
       "14         teaching          by  1.000000  -5.954196      1\n",
       "15               is        well  0.500000  -7.717676      2\n",
       "16             well           a  0.200000  -8.324631      5\n",
       "17             part          's  1.000000 -10.342075      1\n",
       "18             both          it  1.000000 -10.705632      1\n",
       "19              she         but  0.444444  -5.917538      9\n",
       "20              was        only  1.000000  -5.727920      1\n",
       "21             next         but  1.000000  -9.087463      1\n",
       "22            found         she  1.000000  -7.491853      1\n",
       "23                i         and  0.058621  -2.899576    290\n",
       "24               an          'm  0.333333  -6.579944      3\n",
       "26               we          do  0.500000  -8.667112      2\n",
       "27             just          we  0.066667  -5.336283     15\n",
       "28               in         now  1.000000  -7.055282      1\n",
       "30              got         got  1.000000  -7.366322      1\n",
       "31              she           ^  0.125000  -8.372593     16\n",
       "...             ...         ...       ...        ...    ...\n",
       "1058           such        have  0.125000  -6.283088      8\n",
       "1059              a        such  0.083333  -0.938599     12\n",
       "1061  extraordinary           ^  1.000000 -12.372593      1\n",
       "1062            the        know  0.021277  -4.561755     47\n",
       "1064         people           ^  1.000000 -12.372593      1\n",
       "1065           unto        more  1.000000  -7.076816      1\n",
       "1067           well        only  1.000000  -5.727920      1\n",
       "1068           just      dallas  1.000000  -3.700440      1\n",
       "1069             in        that  0.142857  -8.030273      7\n",
       "1070             no        said  1.000000  -6.228819      1\n",
       "1071          being        know  0.250000  -8.116344      4\n",
       "1072             an       being  1.000000  -5.727920      1\n",
       "1073          young  especially  1.000000  -4.247928      1\n",
       "1074             to        know  0.100000  -6.794416     10\n",
       "1075        foreign         see  1.000000  -6.977280      1\n",
       "1076           have        even  0.250000  -4.442943      4\n",
       "1078            the       basic  1.000000  -2.584963      1\n",
       "1079     youngsters        your  1.000000  -7.108524      1\n",
       "1080         murphy           ^  1.000000 -12.372593      1\n",
       "1081      designing       brown  1.000000  -2.807355      1\n",
       "1082           well         the  1.000000 -10.880349      1\n",
       "1084            the         was  0.052632  -4.785495     19\n",
       "1086        sherman           ^  0.500000 -11.372593      2\n",
       "1087       actually           ^  0.200000 -10.050665      5\n",
       "1088             um         and  0.035714  -6.272130     28\n",
       "1089            huh       watch  1.000000  -4.584963      1\n",
       "1090            her         and  0.500000 -10.079485      2\n",
       "1091           what          on  0.250000  -6.409391      4\n",
       "1094              m       watch  1.000000  -4.584963      1\n",
       "1095             to    somebody  0.250000  -3.459432      4\n",
       "\n",
       "[821 rows x 5 columns]"
      ]
     },
     "execution_count": 215,
     "metadata": {},
     "output_type": "execute_result"
    }
   ],
   "source": [
    "df"
   ]
  },
  {
   "cell_type": "code",
   "execution_count": 216,
   "metadata": {},
   "outputs": [
    {
     "data": {
      "text/plain": [
       "<matplotlib.axes._subplots.AxesSubplot at 0x1a22b437f0>"
      ]
     },
     "execution_count": 216,
     "metadata": {},
     "output_type": "execute_result"
    },
    {
     "data": {
      "image/png": "[encoded data removed]",
      "text/plain": [
       "<matplotlib.figure.Figure at 0x1a220565f8>"
      ]
     },
     "metadata": {},
     "output_type": "display_data"
    }
   ],
   "source": [
    "sns.regplot(x='supr', y='lik', data=df[df['total']>10])"
   ]
  },
  {
   "cell_type": "markdown",
   "metadata": {},
   "source": [
    "## Experiment - brainstorm\n",
    "\n",
    "* Task: sentence completion - particiants see a sentence fragment and have to fill in the missing item from a choice of five candidates. \n",
    "    + include the \"true\" candidate?\n",
    "    + include a spectrum of high->low suprisal items\n",
    "* What if we had people incrementally build sentences from the LM candidates?\n",
    "    "
   ]
  },
  {
   "cell_type": "code",
   "execution_count": 220,
   "metadata": {
    "collapsed": true
   },
   "outputs": [],
   "source": [
    "ng = Ngram(2)\n",
    "ng.ingest(orderedTokensAll)"
   ]
  },
  {
   "cell_type": "code",
   "execution_count": 229,
   "metadata": {
    "collapsed": true
   },
   "outputs": [],
   "source": [
    "# sent = random.choice(allStrs).split(' ')\n",
    "# index = random.randint(0, len(sent))\n",
    "# sent[:index]\n",
    "exSent = 'yeah i have a uh well a mutt myself i call it a uh uh chowperd'\n",
    "exSentSplit = exSent.split(' ')\n",
    "index = random.randint(1, len(exSentSplit)-1)\n",
    "fragment = exSentSplit[:index]"
   ]
  },
  {
   "cell_type": "code",
   "execution_count": 230,
   "metadata": {},
   "outputs": [
    {
     "name": "stdout",
     "output_type": "stream",
     "text": [
      "well\n"
     ]
    }
   ],
   "source": [
    "lastToken = fragment[-1]\n",
    "print(lastToken)\n",
    "trueCandidate = exSentSplit[index]"
   ]
  },
  {
   "cell_type": "code",
   "execution_count": 231,
   "metadata": {},
   "outputs": [
    {
     "name": "stdout",
     "output_type": "stream",
     "text": [
      "['um', 'it', 'about', 'uh', 'a', 'that', 'my', '$', 'randy', 'i', 'probably', 'well', 'actually', 'thank', 'yes', 'there', 'and', 'do', 'anyway', 'you', 'we', 'not', 'frankly', 'they', 'see', 'yeah', 'so', 'have', 'this', 'okay', 'the', '--', 'your', 'whatever', 'if', 'whose', 'good', 'commit', 'thanks', 'he', 'iraq', 'since', 'is', 'here', 'no', 'colorado', 'even', 'now', 'girls', 'to', 'our', 'because', 'let', 'ho', 'penicillin', 'what', 'maybe', 'wonder', 'sometimes', 'potential', 'as', 'becau-', 'look', 'when', 'none', 'she', 'presentation', 'like', 'but', 'jean', 'up', 'every', 'transmissions', 'then', 'any', 'course', 'social', 'knock', 'does', 'drugs', 'tur', 'h-', 'in', 'phrased', 'with', 'can', 'perceived', 'me', 'nice', 'heart', 'being', 'of', 'how', 'supported', 'at', 'forget', 'basically', 'for', 'sounds', 'jeez']\n"
     ]
    }
   ],
   "source": [
    "lm_candidates = list(ng.get_candidates((lastToken,)).keys())\n",
    "print(lm_candidates)\n",
    "candidates = set(random.sample(lm_candidates, min(5, len(lm_candidates)))) | {trueCandidate}"
   ]
  },
  {
   "cell_type": "code",
   "execution_count": 232,
   "metadata": {},
   "outputs": [
    {
     "name": "stdout",
     "output_type": "stream",
     "text": [
      "Full utterace:\tyeah i have a uh well a mutt myself i call it a uh uh chowperd\n",
      "Fragment:\tyeah i have a uh well\n",
      "Last token:\twell\n",
      "Candidates:\t{'i', 'they', 'a', 'of', 'knock', 'now'}\n",
      "True candidate:\ta\n"
     ]
    }
   ],
   "source": [
    "print(\"Full utterace:\\t{}\".format(exSent))\n",
    "print('Fragment:\\t{}'.format(' '.join(fragment)))\n",
    "print('Last token:\\t{}'.format(lastToken))\n",
    "print('Candidates:\\t{}'.format(candidates))\n",
    "print('True candidate:\\t{}'.format(trueCandidate))"
   ]
  },
  {
   "cell_type": "markdown",
   "metadata": {},
   "source": [
    "## Experiment - just \"uh's\""
   ]
  },
  {
   "cell_type": "code",
   "execution_count": 233,
   "metadata": {},
   "outputs": [
    {
     "data": {
      "text/plain": [
       "'^ but really uh what do you feel the changes in the future like with the abortions and that type of thing women in politics and -- $'"
      ]
     },
     "execution_count": 233,
     "metadata": {},
     "output_type": "execute_result"
    }
   ],
   "source": [
    "uhStrs = [s for s in allStrsStartEnd if 'uh' in s.split()]\n",
    "uhStrs_sample = random.sample(uhStrs, 10)\n",
    "uhStrs_sample[0]"
   ]
  },
  {
   "cell_type": "code",
   "execution_count": 234,
   "metadata": {
    "collapsed": true
   },
   "outputs": [],
   "source": [
    "def get_match_indices(x, s):\n",
    "    return [i for i, w in enumerate(s.split(' ')) if w == x]"
   ]
  },
  {
   "cell_type": "code",
   "execution_count": 235,
   "metadata": {},
   "outputs": [
    {
     "data": {
      "text/plain": [
       "3"
      ]
     },
     "execution_count": 235,
     "metadata": {},
     "output_type": "execute_result"
    }
   ],
   "source": [
    "indices = get_match_indices('uh', uhStrs_sample[0])\n",
    "index = indices[0]; index"
   ]
  },
  {
   "cell_type": "code",
   "execution_count": 236,
   "metadata": {},
   "outputs": [
    {
     "data": {
      "text/plain": [
       "'^ but really uh'"
      ]
     },
     "execution_count": 236,
     "metadata": {},
     "output_type": "execute_result"
    }
   ],
   "source": [
    "' '.join(uhStrs_sample[0].split(' ')[0:index+1])"
   ]
  },
  {
   "cell_type": "code",
   "execution_count": 237,
   "metadata": {
    "collapsed": true
   },
   "outputs": [],
   "source": [
    "class categoricalDistr:\n",
    "    def __init__(self, vs, ps):\n",
    "        self.vs = vs\n",
    "        self.ps = ps\n",
    "        self.normed_ps = self.normalize(self.ps)\n",
    "        self.distr = dict(zip(self.vs, self.normed_ps))\n",
    "        \n",
    "    def sample(self, k=5):\n",
    "        vals = np.random.choice(a=self.vs, size=(k), p=self.normed_ps)\n",
    "        d = {}\n",
    "        for v in vals:\n",
    "            d[v] = self.distr[v]\n",
    "        return d\n",
    "\n",
    "    def normalize(self, x):\n",
    "        return x / np.sum(x)\n",
    "        \n"
   ]
  },
  {
   "cell_type": "code",
   "execution_count": 241,
   "metadata": {
    "collapsed": true
   },
   "outputs": [],
   "source": [
    "vs = list(ng.get_candidates(('uh',)).keys())\n",
    "ps = list(ng.get_candidates(('uh',)).values())\n",
    "C = categoricalDistr(vs, ps)"
   ]
  },
  {
   "cell_type": "code",
   "execution_count": 242,
   "metadata": {},
   "outputs": [
    {
     "data": {
      "text/plain": [
       "{'a': 0.031620553359683792,\n",
       " 'as': 0.0031620553359683794,\n",
       " 'but': 0.0094861660079051391,\n",
       " 'is': 0.003952569169960474,\n",
       " 'they': 0.020553359683794466}"
      ]
     },
     "execution_count": 242,
     "metadata": {},
     "output_type": "execute_result"
    }
   ],
   "source": [
    "C.sample()"
   ]
  },
  {
   "cell_type": "code",
   "execution_count": null,
   "metadata": {
    "collapsed": true
   },
   "outputs": [],
   "source": []
  }
 ],
 "metadata": {
  "kernelspec": {
   "display_name": "Python 3",
   "language": "python",
   "name": "python3"
  },
  "language_info": {
   "codemirror_mode": {
    "name": "ipython",
    "version": 3
   },
   "file_extension": ".py",
   "mimetype": "text/x-python",
   "name": "python",
   "nbconvert_exporter": "python",
   "pygments_lexer": "ipython3",
   "version": "3.6.1"
  }
 },
 "nbformat": 4,
 "nbformat_minor": 2
}
