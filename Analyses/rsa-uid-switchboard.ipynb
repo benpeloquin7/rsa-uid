{
 "cells": [
  {
   "cell_type": "markdown",
   "metadata": {},
   "source": [
    "# RSA-UID-switchbaord\n",
    "\n",
    "Investigating (possibly) meaningful disfluencies in switchboard\n",
    "\n",
    "### Objectives\n",
    "1. analysis: do disfluencies appear before high-surprisal items?\n",
    "2. listener exp: are listeners inclined to choose high-surprisal items as good candidates when they see 'uh'\n",
    "\n",
    "### Resources\n",
    "* Switchboard http://www.nltk.org/_modules/nltk/corpus/reader/switchboard.html\n",
    "* typing animation https://codepen.io/rusjames/pen/uAFhE"
   ]
  },
  {
   "cell_type": "code",
   "execution_count": 1,
   "metadata": {
    "collapsed": true
   },
   "outputs": [],
   "source": [
    "from collections import Counter, defaultdict\n",
    "import matplotlib.pyplot as plt\n",
    "from nltk.corpus import switchboard as sb\n",
    "import numpy as np\n",
    "import pandas as pd\n",
    "import pdb\n",
    "import random\n",
    "import re\n",
    "import seaborn as sns\n",
    "import sys\n",
    "import time\n",
    "\n",
    "%matplotlib inline  "
   ]
  },
  {
   "cell_type": "markdown",
   "metadata": {},
   "source": [
    "Example discourse..."
   ]
  },
  {
   "cell_type": "code",
   "execution_count": 2,
   "metadata": {
    "collapsed": true
   },
   "outputs": [],
   "source": [
    "discourses = [d for d in sb.discourses()]"
   ]
  },
  {
   "cell_type": "code",
   "execution_count": 3,
   "metadata": {},
   "outputs": [
    {
     "data": {
      "text/plain": [
       "[<A.1: 'Uh , do you have a pet Randy ?'>,\n",
       " <B.2: 'Uh , yeah , currently we have a poodle .'>,\n",
       " <A.3: 'A poodle , miniature or , uh , full size ?'>,\n",
       " <B.4: \"Yeah , uh , it 's , uh miniature .\">,\n",
       " <A.5: 'Uh-huh .'>]"
      ]
     },
     "execution_count": 3,
     "metadata": {},
     "output_type": "execute_result"
    }
   ],
   "source": [
    "discourses[0][:5]"
   ]
  },
  {
   "cell_type": "markdown",
   "metadata": {},
   "source": [
    "### Preprocessing helpers"
   ]
  },
  {
   "cell_type": "code",
   "execution_count": 4,
   "metadata": {
    "collapsed": true
   },
   "outputs": [],
   "source": [
    "def replace_start(s):\n",
    "    start_patt = r\"^<[AB]\\.[0-9]{1,}:\\s[\\'\\\"]\"\n",
    "    replace_patt = ''\n",
    "    s = re.sub(start_patt, replace_patt, s)\n",
    "    return s\n",
    "\n",
    "def replace_end(s):\n",
    "    end_patt = r\"\\s?\\'?>\"\n",
    "    replace_patt = ''\n",
    "    s = re.sub(end_patt, replace_patt, s)\n",
    "    return s\n",
    "\n",
    "def remove_punct(s):\n",
    "    s = re.sub('[,\\.\\?:\\{\\}\\[\\]]', '', s)\n",
    "    return s\n",
    "\n",
    "def turn2Str(t):\n",
    "    unicodeStr = t.unicode_repr()\n",
    "    s = preprocess_turn_str(unicodeStr)\n",
    "    return s\n",
    "\n",
    "def preprocess_turn_str(s):\n",
    "    s = replace_start(s)\n",
    "    s = replace_end(s)\n",
    "    s = remove_punct(s)\n",
    "    s = s.lower()\n",
    "    s = re.sub('\\s{2,}', ' ', s)\n",
    "    s = re.sub(r'\"$', '', s)\n",
    "    s = s.rstrip()\n",
    "    return s"
   ]
  },
  {
   "cell_type": "markdown",
   "metadata": {},
   "source": [
    "check..."
   ]
  },
  {
   "cell_type": "code",
   "execution_count": 5,
   "metadata": {},
   "outputs": [
    {
     "name": "stdout",
     "output_type": "stream",
     "text": [
      "<A.3: 'A poodle , miniature or , uh , full size ?'>\n"
     ]
    },
    {
     "data": {
      "text/plain": [
       "'a poodle miniature or uh full size'"
      ]
     },
     "execution_count": 5,
     "metadata": {},
     "output_type": "execute_result"
    }
   ],
   "source": [
    "exTurn = discourses[0][2]\n",
    "print(str(exTurn))\n",
    "turn2Str(exTurn)"
   ]
  },
  {
   "cell_type": "markdown",
   "metadata": {},
   "source": [
    "## Data"
   ]
  },
  {
   "cell_type": "code",
   "execution_count": 6,
   "metadata": {},
   "outputs": [],
   "source": [
    "def removeDisfluencies(s):\n",
    "    uh_patt = r'\\suh\\s'\n",
    "    um_patt = r'\\sum\\s'\n",
    "    edited_s = re.sub(uh_patt, ' ', s)\n",
    "    edited_s = re.sub(um_patt, ' ', edited_s)\n",
    "    return edited_s\n",
    "# removeDisfluencies('a poodle miniature or uh full um size')"
   ]
  },
  {
   "cell_type": "code",
   "execution_count": 7,
   "metadata": {
    "collapsed": true
   },
   "outputs": [],
   "source": [
    "allStrs = [turn2Str(t) for d in discourses for t in d]\n",
    "allStrsStartEnd = ['^ ' + s + ' $' for s in allStrs]\n",
    "allStrsNoDisfluencies = [removeDisfluencies(s) for s in allStrsStartEnd]\n",
    "orderedTokensAll = ' '.join(allStrsStartEnd).split(' ')\n",
    "orderedTokensNoDisfluencies = ' '.join(allStrsNoDisfluencies).split(' ')"
   ]
  },
  {
   "cell_type": "markdown",
   "metadata": {},
   "source": [
    "### LM"
   ]
  },
  {
   "cell_type": "code",
   "execution_count": 8,
   "metadata": {
    "collapsed": true
   },
   "outputs": [],
   "source": [
    "class Ngram:\n",
    "    def __init__(self, n=2):\n",
    "        self.n = n\n",
    "        self.vocab_size = 0\n",
    "        \n",
    "    def ingest(self, orderedTokens):\n",
    "        self.vocab_size = len(orderedTokens)\n",
    "        d = defaultdict(Counter)\n",
    "        for i, word in enumerate(orderedTokens):\n",
    "            if i == len(orderedTokens)-self.n:\n",
    "                break\n",
    "            currTup = tuple(orderedTokens[i:i+self.n-1])\n",
    "            d[currTup][orderedTokens[i+self.n-1]] += 1\n",
    "        self.lm = d\n",
    "        \n",
    "    def get_lm(self):\n",
    "        return self.lm\n",
    "    \n",
    "    def get_candidates(self, token):\n",
    "        return self.lm[token]\n",
    "    \n",
    "    def get_cond_prob(self, tup):\n",
    "        context = tup[0:self.n-1]\n",
    "        target = tup[self.n-1]\n",
    "        num = self.lm[context][target]\n",
    "        denom = np.sum([d[1] for d in self.lm[context].items()])\n",
    "        return num / denom if denom != 0 else 0.0\n",
    "    \n",
    "    def get_cond_count(self, tup):\n",
    "        context = tup[0:self.n-1]\n",
    "        target = tup[self.n-1]\n",
    "        num = self.lm[context][target]\n",
    "        return num      \n",
    "        "
   ]
  },
  {
   "cell_type": "markdown",
   "metadata": {},
   "source": [
    "check..."
   ]
  },
  {
   "cell_type": "code",
   "execution_count": 9,
   "metadata": {},
   "outputs": [
    {
     "data": {
      "text/plain": [
       "1"
      ]
     },
     "execution_count": 9,
     "metadata": {},
     "output_type": "execute_result"
    }
   ],
   "source": [
    "ng2 = Ngram(n=2)\n",
    "ng3 = Ngram(n=3)\n",
    "exCorpus = ['apple', 'on', 'the', 'apple', 'on', 'a', 'range', 'apple']\n",
    "ng2.ingest(exCorpus)\n",
    "ng3.ingest(exCorpus)\n",
    "ng2.get_cond_count(('on', 'apple'))\n",
    "ng3.get_cond_count(('on', 'the', 'apple'))"
   ]
  },
  {
   "cell_type": "markdown",
   "metadata": {},
   "source": [
    "## Reproducing Levy & Jaeger (2007) that-omission analysis (section 4)"
   ]
  },
  {
   "cell_type": "markdown",
   "metadata": {
    "collapsed": true
   },
   "source": [
    "**Objective**:\n",
    "What is the relationship between `uh/um` presence and the informativity of the following text?\n",
    "* H_0: there is no relationship\n",
    "* H_1: presence of `uh/um` indicates the following content is high-surprisal."
   ]
  },
  {
   "cell_type": "code",
   "execution_count": 10,
   "metadata": {
    "collapsed": true
   },
   "outputs": [],
   "source": [
    "ng_all = Ngram(n=3)\n",
    "ng_all.ingest(orderedTokensAll)\n",
    "ng_no_disfluencies = Ngram(n=2)\n",
    "ng_no_disfluencies.ingest(orderedTokensNoDisfluencies)"
   ]
  },
  {
   "cell_type": "code",
   "execution_count": 11,
   "metadata": {},
   "outputs": [
    {
     "data": {
      "text/plain": [
       "'^ and we do a lot of um stir fry vegetables $'"
      ]
     },
     "execution_count": 11,
     "metadata": {},
     "output_type": "execute_result"
    }
   ],
   "source": [
    "disfluentStrs = [s for s in allStrsStartEnd if 'uh' in s.split() or 'um' in s.split()]\n",
    "disfluentStrs[100]"
   ]
  },
  {
   "cell_type": "code",
   "execution_count": 12,
   "metadata": {
    "collapsed": true
   },
   "outputs": [],
   "source": [
    "def getKtuple(s, k=2):\n",
    "    s_split = s.split(' ')\n",
    "    d = []\n",
    "    for i, token in enumerate(s_split):\n",
    "        if i == len(s_split)-k:\n",
    "            break\n",
    "        curr_tup = tuple(s_split[i:i+k])\n",
    "        d.append(curr_tup)\n",
    "    return d\n",
    "# getKtuple(uhStrs[0])"
   ]
  },
  {
   "cell_type": "code",
   "execution_count": 13,
   "metadata": {
    "collapsed": true
   },
   "outputs": [],
   "source": [
    "def getSentProbs(s, model, n):\n",
    "    d = {}\n",
    "    for tup in getKtuple(s, n):\n",
    "        d[tup] = model.get_lm_prob(tup)\n",
    "    return d\n",
    "# getSentProbs(removeUhs(uhStrs[0]), ng_no_uh, n)"
   ]
  },
  {
   "cell_type": "markdown",
   "metadata": {},
   "source": [
    "### Todo\n",
    "\n",
    "* Get all instances of find all context / targets (w/ and w/o disfluencies and get surprisal)"
   ]
  },
  {
   "cell_type": "code",
   "execution_count": 15,
   "metadata": {},
   "outputs": [],
   "source": [
    "d = []\n",
    "for s in disfluentStrs:\n",
    "    three_tuples = getKtuple(s, 3)\n",
    "    for i, k in enumerate(three_tuples):\n",
    "        if (k[1] == 'uh' or k[1] == 'um') and (sum([i == 'uh' or i == 'um' for i in k]) == 1):\n",
    "            disfluency = k[1]\n",
    "            before = k[0]\n",
    "            after = k[2]\n",
    "            t = (before, after)\n",
    "            non_disfluent_cnt = ng_no_disfluencies.get_cond_count(t)\n",
    "            disfluent_cnt = ng_all.get_cond_count(k)\n",
    "            if disfluent_cnt > non_disfluent_cnt:\n",
    "                pdb.set_trace()\n",
    "            lik = disfluent_cnt / non_disfluent_cnt\n",
    "            surp = np.log2(ng_no_disfluencies.get_cond_prob(t))\n",
    "            data = {\n",
    "                'before': before,\n",
    "                'after': after,\n",
    "                'lik': lik,\n",
    "                'supr': surp,\n",
    "                'total':non_disfluent_cnt,\n",
    "                'disfluency': disfluency\n",
    "            }\n",
    "            d.append(data)"
   ]
  },
  {
   "cell_type": "code",
   "execution_count": 16,
   "metadata": {
    "collapsed": true
   },
   "outputs": [],
   "source": [
    "df = pd.DataFrame(d).drop_duplicates()\n",
    "# df.to_csv('switchboard-uh-data-20171215.csv')"
   ]
  },
  {
   "cell_type": "code",
   "execution_count": 17,
   "metadata": {},
   "outputs": [
    {
     "data": {
      "text/plain": [
       "<seaborn.axisgrid.FacetGrid at 0x11472c198>"
      ]
     },
     "execution_count": 17,
     "metadata": {},
     "output_type": "execute_result"
    },
    {
     "data": {
      "image/png": "[encoded data removed]",
      "text/plain": [
       "<matplotlib.figure.Figure at 0x10a6db630>"
      ]
     },
     "metadata": {},
     "output_type": "display_data"
    }
   ],
   "source": [
    "sns.lmplot(x='supr', y='lik', hue='disfluency', data=df[df['total']>10])"
   ]
  },
  {
   "cell_type": "markdown",
   "metadata": {},
   "source": [
    "## Experiment - brainstorm\n",
    "\n",
    "* Task: sentence completion - particiants see a sentence fragment and have to fill in the missing item from a choice of five candidates. \n",
    "    + include the \"true\" candidate?\n",
    "    + include a spectrum of high->low suprisal items\n",
    "* What if we had people incrementally build sentences from the LM candidates?\n",
    "    "
   ]
  },
  {
   "cell_type": "code",
   "execution_count": 18,
   "metadata": {
    "collapsed": true
   },
   "outputs": [],
   "source": [
    "ng = Ngram(2)\n",
    "ng.ingest(orderedTokensAll)"
   ]
  },
  {
   "cell_type": "code",
   "execution_count": 19,
   "metadata": {
    "collapsed": true
   },
   "outputs": [],
   "source": [
    "# sent = random.choice(allStrs).split(' ')\n",
    "# index = random.randint(0, len(sent))\n",
    "# sent[:index]\n",
    "exSent = 'yeah i have a uh well a mutt myself i call it a uh uh chowperd'\n",
    "exSentSplit = exSent.split(' ')\n",
    "index = random.randint(1, len(exSentSplit)-1)\n",
    "fragment = exSentSplit[:index]"
   ]
  },
  {
   "cell_type": "code",
   "execution_count": 20,
   "metadata": {},
   "outputs": [
    {
     "name": "stdout",
     "output_type": "stream",
     "text": [
      "mutt\n"
     ]
    }
   ],
   "source": [
    "lastToken = fragment[-1]\n",
    "print(lastToken)\n",
    "trueCandidate = exSentSplit[index]"
   ]
  },
  {
   "cell_type": "code",
   "execution_count": 21,
   "metadata": {
    "collapsed": true
   },
   "outputs": [],
   "source": [
    "lm_candidates = list(ng.get_candidates((lastToken,)).keys())\n",
    "candidates = set(random.sample(lm_candidates, min(5, len(lm_candidates)))) | {trueCandidate}"
   ]
  },
  {
   "cell_type": "code",
   "execution_count": 22,
   "metadata": {},
   "outputs": [
    {
     "name": "stdout",
     "output_type": "stream",
     "text": [
      "Full utterace:\tyeah i have a uh well a mutt myself i call it a uh uh chowperd\n",
      "Fragment:\tyeah i have a uh well a mutt\n",
      "Last token:\tmutt\n",
      "Candidates:\t{'myself'}\n",
      "True candidate:\tmyself\n"
     ]
    }
   ],
   "source": [
    "print(\"Full utterace:\\t{}\".format(exSent))\n",
    "print('Fragment:\\t{}'.format(' '.join(fragment)))\n",
    "print('Last token:\\t{}'.format(lastToken))\n",
    "print('Candidates:\\t{}'.format(candidates))\n",
    "print('True candidate:\\t{}'.format(trueCandidate))"
   ]
  },
  {
   "cell_type": "markdown",
   "metadata": {},
   "source": [
    "## Experiment - just \"uh's\"\n",
    "\n",
    "Exploring \"Um implicature\" -- do participants display a high-surprisal bias in sentence completion task.\n",
    "\n",
    "Avoid:\n",
    "* sentence initial disfluencies\n"
   ]
  },
  {
   "cell_type": "code",
   "execution_count": 23,
   "metadata": {},
   "outputs": [
    {
     "data": {
      "text/plain": [
       "\"^ you bet well that that 's what ended up being the real problem on this was the uh i- the the pipe was n't busted but the it was n't soldered in good enough $\""
      ]
     },
     "execution_count": 23,
     "metadata": {},
     "output_type": "execute_result"
    }
   ],
   "source": [
    "uhStrs = [s for s in allStrsStartEnd if 'uh' in s.split()]\n",
    "uhStrs_sample = random.sample(uhStrs, 10)\n",
    "uhStrs_sample[0]"
   ]
  },
  {
   "cell_type": "code",
   "execution_count": 24,
   "metadata": {
    "collapsed": true
   },
   "outputs": [],
   "source": [
    "def get_match_indices(x, s):\n",
    "    return [i for i, w in enumerate(s.split(' ')) if w == x]"
   ]
  },
  {
   "cell_type": "code",
   "execution_count": 25,
   "metadata": {
    "collapsed": true
   },
   "outputs": [],
   "source": [
    "indices = get_match_indices('uh', uhStrs_sample[0])\n",
    "index = indices[0]"
   ]
  },
  {
   "cell_type": "code",
   "execution_count": 26,
   "metadata": {},
   "outputs": [
    {
     "data": {
      "text/plain": [
       "\"^ you bet well that that 's what ended up being the real problem on this was the uh\""
      ]
     },
     "execution_count": 26,
     "metadata": {},
     "output_type": "execute_result"
    }
   ],
   "source": [
    "' '.join(uhStrs_sample[0].split(' ')[0:index+1])"
   ]
  },
  {
   "cell_type": "code",
   "execution_count": 27,
   "metadata": {
    "collapsed": true
   },
   "outputs": [],
   "source": [
    "class categoricalDistr:\n",
    "    def __init__(self, vs, ps):\n",
    "        self.vs = vs\n",
    "        self.ps = ps\n",
    "        self.normed_ps = self.normalize(self.ps)\n",
    "        self.distr = dict(zip(self.vs, self.normed_ps))\n",
    "        \n",
    "    def sample(self, k=5):\n",
    "        vals = np.random.choice(a=self.vs, size=(k), p=self.normed_ps)\n",
    "        d = {}\n",
    "        for v in vals:\n",
    "            d[v] = self.distr[v]\n",
    "        return d\n",
    "    \n",
    "    def get_prob(self, x):\n",
    "        return self.distr[x]\n",
    "\n",
    "    def normalize(self, x):\n",
    "        return x / np.sum(x)"
   ]
  },
  {
   "cell_type": "code",
   "execution_count": 28,
   "metadata": {
    "collapsed": true
   },
   "outputs": [],
   "source": [
    "vs = list(ng.get_candidates(('uh',)).keys())\n",
    "ps = list(ng.get_candidates(('uh',)).values())\n",
    "C = categoricalDistr(vs, ps)"
   ]
  },
  {
   "cell_type": "code",
   "execution_count": 29,
   "metadata": {},
   "outputs": [
    {
     "data": {
      "text/plain": [
       "{'she': 0.015019762845849802,\n",
       " 'the': 0.043478260869565216,\n",
       " 'thought': 0.0015810276679841897,\n",
       " 'we': 0.017391304347826087,\n",
       " 'yes': 0.0031620553359683794}"
      ]
     },
     "execution_count": 29,
     "metadata": {},
     "output_type": "execute_result"
    }
   ],
   "source": [
    "C.sample()"
   ]
  },
  {
   "cell_type": "code",
   "execution_count": 30,
   "metadata": {},
   "outputs": [
    {
     "data": {
      "text/plain": [
       "0.11304347826086956"
      ]
     },
     "execution_count": 30,
     "metadata": {},
     "output_type": "execute_result"
    }
   ],
   "source": [
    "C.get_prob('i')"
   ]
  },
  {
   "cell_type": "code",
   "execution_count": 33,
   "metadata": {},
   "outputs": [
    {
     "name": "stdout",
     "output_type": "stream",
     "text": [
      "------\n",
      "Evaluate:\n",
      "\n",
      "^ you know in the the whole state of maryland i believe there 's only like\n",
      "Please choose one:\t['i', 'youngsters', 'just', 'fifteen']\n",
      "Choice (1, 2, 3, 4):fifteen\n",
      "------\n",
      "Evaluate:\n",
      "\n",
      "^ a poodle miniature or uh\n",
      "Please choose one:\t['of', 'time', 'size']\n",
      "Choice (1, 2, 3, 4):size\n",
      "------\n",
      "Evaluate:\n",
      "\n",
      "^ and i 'm thinking that community service would help them uh just get a feel of what else is out there how other people are living you know if they were to\n",
      "Please choose one:\t['but', 'till', 'that', 'in']\n",
      "Choice (1, 2, 3, 4):in\n"
     ]
    }
   ],
   "source": [
    "def runExperiment(data, n_trials=10, n_candidates=3):\n",
    "    \"\"\"\n",
    "    Parameters\n",
    "    ----------\n",
    "    data: array of str\n",
    "        Sentences / sentence fragments.    \n",
    "    n_iters: int\n",
    "        Number of trials.\n",
    "    n_candidates: int\n",
    "        Size of comparison set.\n",
    "        \n",
    "    Returns\n",
    "    list of dicts\n",
    "        Results.\n",
    "        \n",
    "    \"\"\"\n",
    "    d = []\n",
    "    random.shuffle(data)\n",
    "    for i, sent in enumerate(data):\n",
    "        if i >= n_trials:\n",
    "            break\n",
    "        sent_split = sent.split(' ')\n",
    "        index = random.randint(1, len(sent_split)-1)\n",
    "        target = sent_split[index]\n",
    "        true_candidate = sent_split[index+1]\n",
    "        fragment = sent_split[:index]\n",
    "        fragment_str = ' '.join(fragment)\n",
    "        vs = list(ng.get_candidates((target,)).keys())\n",
    "        ps = list(ng.get_candidates((target,)).values())\n",
    "        C = categoricalDistr(vs, ps)\n",
    "        candidates = C.sample(n_candidates)\n",
    "        candidates[true_candidate] = C.get_prob(true_candidate)\n",
    "        if len(candidates) < n_candidates or len(fragment) < 3:\n",
    "            continue\n",
    "        candidate_keys = list(candidates.keys())\n",
    "        candidate_vals = list(candidates.values())\n",
    "        print('------')\n",
    "        print(\"Evaluate:\\n\")\n",
    "        for ch in fragment_str:\n",
    "            print(ch, end='')\n",
    "            time.sleep(0.1)\n",
    "        print(\"\\nPlease choose one:\\t{}\".format(candidate_keys))\n",
    "        user_choice = input(\"Choice (1, 2, 3, 4):\")\n",
    "        data = {}\n",
    "        for i, (k, v) in enumerate(candidates.items()):\n",
    "            data['candidate' + str(i) + '_key'] = k\n",
    "            data['candidate' + str(i) + '_val'] = v\n",
    "        data['frag'] = fragment_str\n",
    "        data['true_candidate_key'] = true_candidate\n",
    "        data['true_candidate_val'] = candidates[true_candidate]\n",
    "        data['choice'] = user_choice\n",
    "        d.append(data)\n",
    "    return d\n",
    "    \n",
    "d = runExperiment(uhStrs, 3)"
   ]
  },
  {
   "cell_type": "code",
   "execution_count": 34,
   "metadata": {
    "collapsed": true
   },
   "outputs": [],
   "source": [
    "df = pd.DataFrame(d)"
   ]
  },
  {
   "cell_type": "code",
   "execution_count": 35,
   "metadata": {
    "collapsed": true
   },
   "outputs": [],
   "source": [
    "df['correct'] = df['choice'] == df['true_candidate_key']"
   ]
  },
  {
   "cell_type": "code",
   "execution_count": 36,
   "metadata": {},
   "outputs": [
    {
     "data": {
      "text/plain": [
       "3"
      ]
     },
     "execution_count": 36,
     "metadata": {},
     "output_type": "execute_result"
    }
   ],
   "source": [
    "sum(df['correct'])"
   ]
  },
  {
   "cell_type": "code",
   "execution_count": 37,
   "metadata": {},
   "outputs": [
    {
     "data": {
      "text/html": [
       "<div>\n",
       "<style scoped>\n",
       "    .dataframe tbody tr th:only-of-type {\n",
       "        vertical-align: middle;\n",
       "    }\n",
       "\n",
       "    .dataframe tbody tr th {\n",
       "        vertical-align: top;\n",
       "    }\n",
       "\n",
       "    .dataframe thead th {\n",
       "        text-align: right;\n",
       "    }\n",
       "</style>\n",
       "<table border=\"1\" class=\"dataframe\">\n",
       "  <thead>\n",
       "    <tr style=\"text-align: right;\">\n",
       "      <th></th>\n",
       "      <th>candidate0_key</th>\n",
       "      <th>candidate0_val</th>\n",
       "      <th>candidate1_key</th>\n",
       "      <th>candidate1_val</th>\n",
       "      <th>candidate2_key</th>\n",
       "      <th>candidate2_val</th>\n",
       "      <th>candidate3_key</th>\n",
       "      <th>candidate3_val</th>\n",
       "      <th>choice</th>\n",
       "      <th>frag</th>\n",
       "      <th>true_candidate_key</th>\n",
       "      <th>true_candidate_val</th>\n",
       "      <th>correct</th>\n",
       "    </tr>\n",
       "  </thead>\n",
       "  <tbody>\n",
       "    <tr>\n",
       "      <th>0</th>\n",
       "      <td>i</td>\n",
       "      <td>0.113043</td>\n",
       "      <td>youngsters</td>\n",
       "      <td>0.000791</td>\n",
       "      <td>just</td>\n",
       "      <td>0.008696</td>\n",
       "      <td>fifteen</td>\n",
       "      <td>0.000791</td>\n",
       "      <td>fifteen</td>\n",
       "      <td>^ you know in the the whole state of maryland ...</td>\n",
       "      <td>fifteen</td>\n",
       "      <td>0.000791</td>\n",
       "      <td>True</td>\n",
       "    </tr>\n",
       "    <tr>\n",
       "      <th>1</th>\n",
       "      <td>of</td>\n",
       "      <td>0.333333</td>\n",
       "      <td>time</td>\n",
       "      <td>0.444444</td>\n",
       "      <td>size</td>\n",
       "      <td>0.111111</td>\n",
       "      <td>NaN</td>\n",
       "      <td>NaN</td>\n",
       "      <td>size</td>\n",
       "      <td>^ a poodle miniature or uh</td>\n",
       "      <td>size</td>\n",
       "      <td>0.111111</td>\n",
       "      <td>True</td>\n",
       "    </tr>\n",
       "    <tr>\n",
       "      <th>2</th>\n",
       "      <td>but</td>\n",
       "      <td>0.023529</td>\n",
       "      <td>till</td>\n",
       "      <td>0.011765</td>\n",
       "      <td>that</td>\n",
       "      <td>0.011765</td>\n",
       "      <td>in</td>\n",
       "      <td>0.070588</td>\n",
       "      <td>in</td>\n",
       "      <td>^ and i 'm thinking that community service wou...</td>\n",
       "      <td>in</td>\n",
       "      <td>0.070588</td>\n",
       "      <td>True</td>\n",
       "    </tr>\n",
       "  </tbody>\n",
       "</table>\n",
       "</div>"
      ],
      "text/plain": [
       "  candidate0_key  candidate0_val candidate1_key  candidate1_val  \\\n",
       "0              i        0.113043     youngsters        0.000791   \n",
       "1             of        0.333333           time        0.444444   \n",
       "2            but        0.023529           till        0.011765   \n",
       "\n",
       "  candidate2_key  candidate2_val candidate3_key  candidate3_val   choice  \\\n",
       "0           just        0.008696        fifteen        0.000791  fifteen   \n",
       "1           size        0.111111            NaN             NaN     size   \n",
       "2           that        0.011765             in        0.070588       in   \n",
       "\n",
       "                                                frag true_candidate_key  \\\n",
       "0  ^ you know in the the whole state of maryland ...            fifteen   \n",
       "1                         ^ a poodle miniature or uh               size   \n",
       "2  ^ and i 'm thinking that community service wou...                 in   \n",
       "\n",
       "   true_candidate_val  correct  \n",
       "0            0.000791     True  \n",
       "1            0.111111     True  \n",
       "2            0.070588     True  "
      ]
     },
     "execution_count": 37,
     "metadata": {},
     "output_type": "execute_result"
    }
   ],
   "source": [
    "df.head()"
   ]
  },
  {
   "cell_type": "code",
   "execution_count": null,
   "metadata": {
    "collapsed": true
   },
   "outputs": [],
   "source": []
  }
 ],
 "metadata": {
  "kernelspec": {
   "display_name": "Python 3",
   "language": "python",
   "name": "python3"
  },
  "language_info": {
   "codemirror_mode": {
    "name": "ipython",
    "version": 3
   },
   "file_extension": ".py",
   "mimetype": "text/x-python",
   "name": "python",
   "nbconvert_exporter": "python",
   "pygments_lexer": "ipython3",
   "version": "3.6.1"
  }
 },
 "nbformat": 4,
 "nbformat_minor": 2
}
